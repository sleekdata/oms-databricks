{
 "cells": [
  {
   "cell_type": "code",
   "execution_count": 0,
   "metadata": {
    "application/vnd.databricks.v1+cell": {
     "cellMetadata": {
      "byteLimit": 2048000,
      "rowLimit": 10000
     },
     "inputWidgets": {},
     "nuid": "fdf34047-c76d-450d-ae2d-f1a15c1d045b",
     "showTitle": false,
     "tableResultSettingsMap": {},
     "title": ""
    }
   },
   "outputs": [],
   "source": [
    "CREATE SCHEMA IF NOT EXISTS oms_analytics.silver;\n",
    "CREATE SCHEMA IF NOT EXISTS oms_analytics.gold;\n"
   ]
  },
  {
   "cell_type": "code",
   "execution_count": 0,
   "metadata": {
    "application/vnd.databricks.v1+cell": {
     "cellMetadata": {
      "byteLimit": 2048000,
      "rowLimit": 10000
     },
     "inputWidgets": {},
     "nuid": "a9d7b856-d3d4-4f2e-8442-c11e47af01db",
     "showTitle": false,
     "tableResultSettingsMap": {},
     "title": ""
    }
   },
   "outputs": [],
   "source": [
    "%sql\n",
    "SELECT\n",
    "*\n",
    "FROM\n",
    "    oms_analytics.bronze.orders"
   ]
  },
  {
   "cell_type": "code",
   "execution_count": 0,
   "metadata": {
    "application/vnd.databricks.v1+cell": {
     "cellMetadata": {
      "byteLimit": 2048000,
      "rowLimit": 10000
     },
     "inputWidgets": {},
     "nuid": "167e8a7f-0ed3-4446-a3d0-0cffb47de8bc",
     "showTitle": false,
     "tableResultSettingsMap": {},
     "title": ""
    }
   },
   "outputs": [],
   "source": [
    "select \n",
    "sum(quantity),\n",
    "sum(unit_price)\n",
    "from oms_analytics.silver.order_items"
   ]
  },
  {
   "cell_type": "code",
   "execution_count": 0,
   "metadata": {
    "application/vnd.databricks.v1+cell": {
     "cellMetadata": {
      "byteLimit": 2048000,
      "rowLimit": 10000
     },
     "inputWidgets": {},
     "nuid": "effaa1b6-b85a-4131-9820-e6269ab43e47",
     "showTitle": false,
     "tableResultSettingsMap": {},
     "title": ""
    }
   },
   "outputs": [],
   "source": [
    "SELECT\n",
    "  current_timestamp() AS current_time,\n",
    "  current_timezone() AS current_timezone"
   ]
  },
  {
   "cell_type": "code",
   "execution_count": 0,
   "metadata": {
    "application/vnd.databricks.v1+cell": {
     "cellMetadata": {
      "byteLimit": 2048000,
      "rowLimit": 10000
     },
     "inputWidgets": {},
     "nuid": "e0eeb959-1295-4a4d-a4c5-1862a2b8fc90",
     "showTitle": false,
     "tableResultSettingsMap": {},
     "title": ""
    }
   },
   "outputs": [],
   "source": [
    "SELECT \n",
    "    o.customer_id, \n",
    "    o.date_id, \n",
    "    oi.product_id, \n",
    "    SUM(oi.quantity) AS total_quantity, \n",
    "    SUM(oi.line_total) AS total_price\n",
    "FROM oms_analytics.silver.orders o\n",
    "INNER JOIN oms_analytics.silver.order_items oi\n",
    "    ON o.order_id = oi.order_id\n",
    "GROUP BY \n",
    "    o.customer_id, \n",
    "    o.date_id, \n",
    "    oi.product_id\n",
    "ORDER BY \n",
    "    o.date_id, \n",
    "    o.customer_id, \n",
    "    oi.product_id;"
   ]
  },
  {
   "cell_type": "code",
   "execution_count": 0,
   "metadata": {
    "application/vnd.databricks.v1+cell": {
     "cellMetadata": {
      "byteLimit": 2048000,
      "rowLimit": 10000
     },
     "inputWidgets": {},
     "nuid": "b3c985b4-5e9b-4e30-b2a8-b27ae939985b",
     "showTitle": false,
     "tableResultSettingsMap": {},
     "title": ""
    }
   },
   "outputs": [],
   "source": [
    "SELECT *\n",
    "FROM oms_analytics.gold.daily_sales_fact\n",
    "ORDER BY \n",
    "    date_id, \n",
    "    customer_id, \n",
    "    product_id;"
   ]
  },
  {
   "cell_type": "code",
   "execution_count": 0,
   "metadata": {
    "application/vnd.databricks.v1+cell": {
     "cellMetadata": {
      "byteLimit": 2048000,
      "rowLimit": 10000
     },
     "inputWidgets": {},
     "nuid": "91d8db85-2d41-4193-b1da-42b79a509236",
     "showTitle": false,
     "tableResultSettingsMap": {},
     "title": ""
    }
   },
   "outputs": [],
   "source": [
    "DROP TABLE IF EXISTS oms_analytics.bronze.orders;\n",
    "DROP TABLE IF EXISTS oms_analytics.silver.order_items;\n",
    "DROP TABLE IF EXISTS oms_analytics.silver.orders;\n",
    "DROP TABLE IF EXISTS oms_analytics.gold.daily_sales_fact;\n"
   ]
  }
 ],
 "metadata": {
  "application/vnd.databricks.v1+notebook": {
   "computePreferences": null,
   "dashboards": [],
   "environmentMetadata": {
    "base_environment": "",
    "environment_version": "2"
   },
   "language": "sql",
   "notebookMetadata": {
    "pythonIndentUnit": 4
   },
   "notebookName": "tmp",
   "widgets": {}
  },
  "language_info": {
   "name": "sql"
  }
 },
 "nbformat": 4,
 "nbformat_minor": 0
}
