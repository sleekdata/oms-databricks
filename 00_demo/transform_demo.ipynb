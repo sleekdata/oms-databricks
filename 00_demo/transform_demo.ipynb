{
 "cells": [
  {
   "cell_type": "code",
   "execution_count": 0,
   "metadata": {
    "application/vnd.databricks.v1+cell": {
     "cellMetadata": {
      "byteLimit": 2048000,
      "implicitDf": true,
      "rowLimit": 10000
     },
     "inputWidgets": {},
     "nuid": "c0cab4d8-8f6e-4cee-8704-6c16d4a9dcdc",
     "showTitle": true,
     "tableResultSettingsMap": {},
     "title": "Read Input Files into DataFrames"
    }
   },
   "outputs": [],
   "source": [
    "# Define the base file path as a parameter\n",
    "base_file_path = \"file:/Workspace/Users/yasodhashree91@gmail.com/oms-databricks/00_demo/sample_data/\"\n",
    "\n",
    "# Read each file into a named DataFrame using the parameterized base file path\n",
    "employees_branch_a = spark.read.csv(base_file_path + \"employees_branch_a.csv\", header=True)\n",
    "employees_branch_b = spark.read.csv(base_file_path + \"employees_branch_b.csv\", header=True)\n",
    "job_history_branch_a = spark.read.csv(base_file_path + \"job_history_branch_a.csv\", header=True)\n",
    "job_history_branch_b = spark.read.csv(base_file_path + \"job_history_branch_b.csv\", header=True)"
   ]
  },
  {
   "cell_type": "code",
   "execution_count": 0,
   "metadata": {
    "application/vnd.databricks.v1+cell": {
     "cellMetadata": {
      "byteLimit": 2048000,
      "rowLimit": 10000
     },
     "inputWidgets": {},
     "nuid": "2cb57a6c-fcaa-4c3d-938a-37ceb84709c6",
     "showTitle": true,
     "tableResultSettingsMap": {},
     "title": "Optional: Display Data from Each Dataframe"
    }
   },
   "outputs": [],
   "source": [
    "# Display a few rows from each DataFrame\n",
    "displayHTML(\"<h2><b>employees_branch_a:</b></h2>\")\n",
    "display(employees_branch_a.limit(5))\n",
    "\n",
    "displayHTML(\"<h2><b>employees_branch_b:</b></h2>\")\n",
    "display(employees_branch_b.limit(5))\n",
    "\n",
    "displayHTML(\"<h2><b>job_history_branch_a:</b></h2>\")\n",
    "display(job_history_branch_a.limit(5))\n",
    "\n",
    "displayHTML(\"<h2><b>job_history_branch_b:</b></h2>\")\n",
    "display(job_history_branch_b.limit(5))"
   ]
  },
  {
   "cell_type": "code",
   "execution_count": 0,
   "metadata": {
    "application/vnd.databricks.v1+cell": {
     "cellMetadata": {
      "byteLimit": 2048000,
      "rowLimit": 10000
     },
     "inputWidgets": {},
     "nuid": "9c535434-445a-4564-80cb-64e862807159",
     "showTitle": true,
     "tableResultSettingsMap": {},
     "title": "Imports"
    }
   },
   "outputs": [],
   "source": [
    "from pyspark.sql import functions as F"
   ]
  },
  {
   "cell_type": "code",
   "execution_count": 0,
   "metadata": {
    "application/vnd.databricks.v1+cell": {
     "cellMetadata": {
      "byteLimit": 2048000,
      "rowLimit": 10000
     },
     "inputWidgets": {},
     "nuid": "e6101cdb-f5f8-4959-bfc3-dab4e10eb58d",
     "showTitle": true,
     "tableResultSettingsMap": {},
     "title": "Transform 1 - Typecasting Columns"
    }
   },
   "outputs": [],
   "source": [
    "# Typecasting employees DataFrame\n",
    "employees_branch_a = employees_branch_a.withColumn(\"age\", F.col(\"age\").cast(\"int\")) \\\n",
    "    .withColumn(\"salary\", F.col(\"salary\").cast(\"double\")) \\\n",
    "    .withColumn(\"join_date\", F.col(\"join_date\").cast(\"date\"))\n",
    "\n",
    "employees_branch_b = employees_branch_b.withColumn(\"age\", F.col(\"age\").cast(\"int\")) \\\n",
    "    .withColumn(\"salary\", F.col(\"salary\").cast(\"double\")) \\\n",
    "    .withColumn(\"join_date\", F.col(\"join_date\").cast(\"date\"))\n",
    "\n",
    "# Typecasting job_history DataFrame\n",
    "job_history_branch_a = job_history_branch_a.withColumn(\"start_date\", F.col(\"start_date\").cast(\"date\")) \\\n",
    "    .withColumn(\"end_date\", F.col(\"end_date\").cast(\"date\"))\n",
    "\n",
    "job_history_branch_b = job_history_branch_b.withColumn(\"start_date\", F.col(\"start_date\").cast(\"date\")) \\\n",
    "    .withColumn(\"end_date\", F.col(\"end_date\").cast(\"date\"))\n"
   ]
  },
  {
   "cell_type": "code",
   "execution_count": 0,
   "metadata": {
    "application/vnd.databricks.v1+cell": {
     "cellMetadata": {
      "byteLimit": 2048000,
      "rowLimit": 10000
     },
     "inputWidgets": {},
     "nuid": "f7013bb4-7727-41fb-a097-c4fb1090217f",
     "showTitle": true,
     "tableResultSettingsMap": {},
     "title": "Transform 2 - Union"
    }
   },
   "outputs": [],
   "source": [
    "# Union the employees datasets and job history datasets\n",
    "employees_union = employees_branch_a.union(employees_branch_b)\n",
    "job_history_union = job_history_branch_a.union(job_history_branch_b)"
   ]
  },
  {
   "cell_type": "code",
   "execution_count": 0,
   "metadata": {
    "application/vnd.databricks.v1+cell": {
     "cellMetadata": {
      "byteLimit": 2048000,
      "rowLimit": 10000
     },
     "inputWidgets": {},
     "nuid": "74c5e9be-c543-46f8-a1ec-a95578d87a8d",
     "showTitle": true,
     "tableResultSettingsMap": {},
     "title": "Transform 3- Join"
    }
   },
   "outputs": [],
   "source": [
    "# Join the unioned employees with the unioned job history\n",
    "joined_data = employees_union.join(job_history_union, on=\"employee_id\", how=\"inner\")"
   ]
  },
  {
   "cell_type": "code",
   "execution_count": 0,
   "metadata": {
    "application/vnd.databricks.v1+cell": {
     "cellMetadata": {
      "byteLimit": 2048000,
      "rowLimit": 10000
     },
     "inputWidgets": {},
     "nuid": "6adefd65-8fcc-4f3d-a9b9-2ff78455f5fe",
     "showTitle": false,
     "tableResultSettingsMap": {},
     "title": ""
    }
   },
   "outputs": [],
   "source": [
    "display(joined_data.limit(10))"
   ]
  },
  {
   "cell_type": "code",
   "execution_count": 0,
   "metadata": {
    "application/vnd.databricks.v1+cell": {
     "cellMetadata": {
      "byteLimit": 2048000,
      "rowLimit": 10000
     },
     "inputWidgets": {},
     "nuid": "a64a41f9-64c7-4a50-98ca-e1952a5d00c1",
     "showTitle": true,
     "tableResultSettingsMap": {},
     "title": "Transform 4 - Filter Rows"
    }
   },
   "outputs": [],
   "source": [
    "# Filter rows with salary more than 50000\n",
    "filtered_data = joined_data.filter(F.col(\"salary\") > 50000)"
   ]
  },
  {
   "cell_type": "code",
   "execution_count": 0,
   "metadata": {
    "application/vnd.databricks.v1+cell": {
     "cellMetadata": {
      "byteLimit": 2048000,
      "rowLimit": 10000
     },
     "inputWidgets": {},
     "nuid": "c710b4a7-4f0f-49ed-ba05-cccb0fce4c01",
     "showTitle": true,
     "tableResultSettingsMap": {},
     "title": "Transform 5 - Select Columns"
    }
   },
   "outputs": [],
   "source": [
    "# Select only relevant columns using 'select' or 'drop'\n",
    "selected_data = filtered_data.select(\"employee_id\", \"name\", \"age\", \"salary\", \"department\", \"join_date\", \"gender\", \"role\", \"start_date\", \"end_date\")\n",
    "\n",
    "# Alternatively, use 'drop' to exclude a column (in this case, 'drop' may be more readable)\n",
    "# selected_data = filtered_data.drop(\"branch\")"
   ]
  },
  {
   "cell_type": "code",
   "execution_count": 0,
   "metadata": {
    "application/vnd.databricks.v1+cell": {
     "cellMetadata": {
      "byteLimit": 2048000,
      "rowLimit": 10000
     },
     "inputWidgets": {},
     "nuid": "3d526921-78e9-45c3-bd7c-3504747e3a08",
     "showTitle": true,
     "tableResultSettingsMap": {},
     "title": "Transform 6 - Sort"
    }
   },
   "outputs": [],
   "source": [
    "# Sort based on employee_id and start_date (desc)\n",
    "sorted_data = selected_data.orderBy([\"employee_id\", \"start_date\"], ascending=[True, False])"
   ]
  },
  {
   "cell_type": "code",
   "execution_count": 0,
   "metadata": {
    "application/vnd.databricks.v1+cell": {
     "cellMetadata": {
      "byteLimit": 2048000,
      "rowLimit": 10000
     },
     "inputWidgets": {},
     "nuid": "c2a6ae73-f357-4e22-b12c-68fc05e6a989",
     "showTitle": true,
     "tableResultSettingsMap": {},
     "title": "Transform 7 - Dedup"
    }
   },
   "outputs": [],
   "source": [
    "# Deduplicate to keep the latest active role for each employee\n",
    "deduped_data = sorted_data.dropDuplicates([\"employee_id\"])"
   ]
  },
  {
   "cell_type": "code",
   "execution_count": 0,
   "metadata": {
    "application/vnd.databricks.v1+cell": {
     "cellMetadata": {
      "byteLimit": 2048000,
      "rowLimit": 10000
     },
     "inputWidgets": {},
     "nuid": "e1060122-d43d-432e-9235-a5334796bf93",
     "showTitle": true,
     "tableResultSettingsMap": {},
     "title": "Transform 8 - Create New Derived Column"
    }
   },
   "outputs": [],
   "source": [
    "# Calculate years_in_service using join_date and current date\n",
    "data_with_years = deduped_data.withColumn(\n",
    "    \"years_in_service\", \n",
    "    F.floor(F.datediff(F.current_date(), F.to_date(F.col(\"join_date\"))) / 365)\n",
    ")"
   ]
  },
  {
   "cell_type": "code",
   "execution_count": 0,
   "metadata": {
    "application/vnd.databricks.v1+cell": {
     "cellMetadata": {
      "byteLimit": 2048000,
      "rowLimit": 10000
     },
     "inputWidgets": {},
     "nuid": "1c5fd64e-e06f-4430-b511-886c8ae622ce",
     "showTitle": true,
     "tableResultSettingsMap": {},
     "title": "Transform 9 - Null Handling"
    }
   },
   "outputs": [],
   "source": [
    "# Drop rows where the role is Null\n",
    "cleaned_data = data_with_years.dropna(subset=[\"role\"])\n",
    "\n",
    "# Replace Null values in age with 0\n",
    "cleaned_data = cleaned_data.fillna({\"age\": 0})"
   ]
  },
  {
   "cell_type": "code",
   "execution_count": 0,
   "metadata": {
    "application/vnd.databricks.v1+cell": {
     "cellMetadata": {
      "byteLimit": 2048000,
      "rowLimit": 10000
     },
     "inputWidgets": {},
     "nuid": "1a3c371f-e593-4826-aaa6-7abe5879bd77",
     "showTitle": true,
     "tableResultSettingsMap": {},
     "title": "Transform 10 - Conditional Data Transformations"
    }
   },
   "outputs": [],
   "source": [
    "# Replace 'M' with 'Male', 'F' with 'Female', and any other value with 'Other' in the 'gender' column\n",
    "cleaned_data = cleaned_data.withColumn(\n",
    "    \"gender\", \n",
    "    F.when(F.col(\"gender\") == \"M\", \"Male\")\n",
    "     .when(F.col(\"gender\") == \"F\", \"Female\")\n",
    "     .otherwise(\"Other\")\n",
    ")"
   ]
  },
  {
   "cell_type": "code",
   "execution_count": 0,
   "metadata": {
    "application/vnd.databricks.v1+cell": {
     "cellMetadata": {
      "byteLimit": 2048000,
      "rowLimit": 10000
     },
     "inputWidgets": {},
     "nuid": "2cf3a5f0-4f40-4223-bac8-2318f1ddf074",
     "showTitle": true,
     "tableResultSettingsMap": {},
     "title": "Transform 11 - Aggregate functions"
    }
   },
   "outputs": [],
   "source": [
    "# Calculate the average, minimum, and maximum salary for each role\n",
    "aggregated_data = cleaned_data.groupBy(\"role\").agg(\n",
    "    F.avg(\"salary\").alias(\"avg_salary\"),\n",
    "    F.min(\"salary\").alias(\"min_salary\"),\n",
    "    F.max(\"salary\").alias(\"max_salary\")\n",
    ")"
   ]
  },
  {
   "cell_type": "code",
   "execution_count": 0,
   "metadata": {
    "application/vnd.databricks.v1+cell": {
     "cellMetadata": {
      "byteLimit": 2048000,
      "rowLimit": 10000
     },
     "inputWidgets": {},
     "nuid": "770ac683-5971-427f-86d3-2b25261ba861",
     "showTitle": true,
     "tableResultSettingsMap": {},
     "title": "Display the Final DataFrames"
    }
   },
   "outputs": [
    {
     "output_type": "display_data",
     "data": {
      "text/plain": [
       "Databricks visualization. Run in Databricks to view."
      ]
     },
     "metadata": {
      "application/vnd.databricks.v1.subcommand+json": {
       "baseErrorDetails": null,
       "bindings": {},
       "collapsed": false,
       "command": "%python\n__backend_agg_display_orig = display\n__backend_agg_dfs = []\ndef __backend_agg_display_new(df):\n    __backend_agg_df_modules = [\"pandas.core.frame\", \"databricks.koalas.frame\", \"pyspark.sql.dataframe\", \"pyspark.pandas.frame\", \"pyspark.sql.connect.dataframe\"]\n    if (type(df).__module__ in __backend_agg_df_modules and type(df).__name__ == 'DataFrame') or isinstance(df, list):\n        __backend_agg_dfs.append(df)\n\ndisplay = __backend_agg_display_new\n\ndef __backend_agg_user_code_fn():\n    import base64\n    exec(base64.standard_b64decode(\"IyBXZSBhcmUganVzdCBkaXNwbGF5aW5nIHRoZSBkYXRhIGhlcmUsIGJ1dCB0aGVzZSBkYXRhZnJhbWVzIGNhbiBiZSBsb2FkZWQgaW50byBhIHRhYmxlIGFzIHNob3duIGluIHRoZSBuZXh0IGNlbGwKZGlzcGxheUhUTUwoIjxoMj48Yj5jbGVhbmVkX2RhdGE6PC9iPjwvaDI+IikKZGlzcGxheShjbGVhbmVkX2RhdGEubGltaXQoNSkpCgpkaXNwbGF5SFRNTCgiPGgyPjxiPmFnZ3JlZ2F0ZWRfZGF0YTo8L2I+PC9oMj4iKQpkaXNwbGF5KGFnZ3JlZ2F0ZWRfZGF0YS5saW1pdCg1KSk=\").decode())\n\ntry:\n    # run user code\n    __backend_agg_user_code_fn()\n\n    #reset display function\n    display = __backend_agg_display_orig\n\n    if len(__backend_agg_dfs) > 1:\n        # create a temp view\n        if type(__backend_agg_dfs[1]).__module__ == \"databricks.koalas.frame\":\n            # koalas dataframe\n            __backend_agg_dfs[1].to_spark().createOrReplaceTempView(\"DatabricksViewc98f080\")\n        elif type(__backend_agg_dfs[1]).__module__ == \"pandas.core.frame\" or isinstance(__backend_agg_dfs[1], list):\n            # pandas dataframe\n            spark.createDataFrame(__backend_agg_dfs[1]).createOrReplaceTempView(\"DatabricksViewc98f080\")\n        else:\n            __backend_agg_dfs[1].createOrReplaceTempView(\"DatabricksViewc98f080\")\n        #run backend agg\n        display(spark.sql(\"\"\"WITH q AS (select * from DatabricksViewc98f080) SELECT `role`,SUM(`avg_salary`) `column_4d6682b1121`,`avg_salary` FROM q GROUP BY `avg_salary`,`role`\"\"\"))\n    else:\n        displayHTML(\"dataframe no longer exists. If you're using dataframe.display(), use display(dataframe) instead.\")\n\n\nfinally:\n    spark.sql(\"drop view if exists DatabricksViewc98f080\")\n    display = __backend_agg_display_orig\n    del __backend_agg_display_new\n    del __backend_agg_display_orig\n    del __backend_agg_dfs\n    del __backend_agg_user_code_fn\n\n",
       "commandTitle": "Role wise salary trends",
       "commandType": "auto",
       "commandVersion": 0,
       "commentThread": [],
       "commentsVisible": false,
       "contentSha256Hex": null,
       "customPlotOptions": {
        "redashChart": [
         {
          "key": "type",
          "value": "CHART"
         },
         {
          "key": "options",
          "value": {
           "alignYAxesAtZero": true,
           "coefficient": 1,
           "columnConfigurationMap": {
            "series": {
             "column": "avg_salary",
             "id": "column_4d6682b1123"
            },
            "x": {
             "column": "role",
             "id": "column_4d6682b1119"
            },
            "y": [
             {
              "column": "avg_salary",
              "id": "column_4d6682b1121",
              "transform": "SUM"
             }
            ]
           },
           "dateTimeFormat": "DD/MM/YYYY HH:mm",
           "direction": {
            "type": "counterclockwise"
           },
           "error_y": {
            "type": "data",
            "visible": true
           },
           "globalSeriesType": "column",
           "isAggregationOn": true,
           "legend": {
            "traceorder": "normal"
           },
           "missingValuesAsZero": true,
           "numberFormat": "0,0.[00000]",
           "percentFormat": "0[.]00%",
           "series": {
            "error_y": {
             "type": "data",
             "visible": true
            },
            "stacking": "stack"
           },
           "seriesOptions": {
            "column_4d6682b1121": {
             "type": "column",
             "yAxis": 0
            }
           },
           "showDataLabels": false,
           "sizemode": "diameter",
           "sortX": true,
           "sortY": true,
           "swappedAxes": false,
           "textFormat": "",
           "useAggregationsUi": true,
           "valuesOptions": {},
           "version": 2,
           "xAxis": {
            "labels": {
             "enabled": true
            },
            "type": "-"
           },
           "yAxis": [
            {
             "type": "-"
            },
            {
             "opposite": true,
             "type": "-"
            }
           ]
          }
         }
        ]
       },
       "datasetPreviewNameToCmdIdMap": {},
       "diffDeletes": [],
       "diffInserts": [],
       "displayType": "redashChart",
       "error": null,
       "errorDetails": null,
       "errorSummary": null,
       "errorTraceType": null,
       "finishTime": 0,
       "globalVars": {},
       "guid": "",
       "height": "auto",
       "hideCommandCode": false,
       "hideCommandResult": false,
       "iPythonMetadata": null,
       "inputWidgets": {},
       "isLockedInExamMode": false,
       "latestUser": "a user",
       "latestUserId": null,
       "listResultMetadata": null,
       "metadata": {},
       "nuid": "6c7e99ba-3096-4ef1-b782-e5cdc07d47c0",
       "origId": 0,
       "parentHierarchy": [],
       "pivotAggregation": null,
       "pivotColumns": null,
       "position": 17.0,
       "resultDbfsErrorMessage": null,
       "resultDbfsStatus": "INLINED_IN_TREE",
       "results": null,
       "showCommandTitle": false,
       "startTime": 0,
       "state": "input",
       "streamStates": {},
       "subcommandOptions": {
        "queryPlan": {
         "groups": [
          {
           "column": "role",
           "type": "column"
          },
          {
           "column": "avg_salary",
           "type": "column"
          }
         ],
         "selects": [
          {
           "column": "role",
           "type": "column"
          },
          {
           "alias": "column_4d6682b1121",
           "args": [
            {
             "column": "avg_salary",
             "type": "column"
            }
           ],
           "function": "SUM",
           "type": "function"
          },
          {
           "column": "avg_salary",
           "type": "column"
          }
         ]
        }
       },
       "submitTime": 0,
       "subtype": "tableResultSubCmd.visualization",
       "tableResultIndex": 1,
       "tableResultSettingsMap": {},
       "useConsistentColors": false,
       "version": "CommandV1",
       "width": "auto",
       "workflows": null,
       "xColumns": null,
       "yColumns": null
      }
     },
     "output_type": "display_data"
    }
   ],
   "source": [
    "# We are just displaying the data here, but these dataframes can be loaded into a table as shown in the next cell\n",
    "displayHTML(\"<h2><b>cleaned_data:</b></h2>\")\n",
    "display(cleaned_data.limit(5))\n",
    "\n",
    "displayHTML(\"<h2><b>aggregated_data:</b></h2>\")\n",
    "display(aggregated_data.limit(5))"
   ]
  },
  {
   "cell_type": "code",
   "execution_count": 0,
   "metadata": {
    "application/vnd.databricks.v1+cell": {
     "cellMetadata": {
      "byteLimit": 2048000,
      "rowLimit": 10000
     },
     "inputWidgets": {},
     "nuid": "430cd1af-e2ba-446a-a808-e2c35731b9d4",
     "showTitle": false,
     "tableResultSettingsMap": {},
     "title": ""
    }
   },
   "outputs": [],
   "source": [
    "import matplotlib.pyplot as plt\n",
    "\n",
    "pdf = aggregated_data.limit(5).toPandas()\n",
    "pdf.plot(kind=\"bar\", x=\"role\", y=\"avg_salary\", color=\"skyblue\", figsize=(10, 5))\n",
    "\n",
    "plt.xlabel(\"Role\")\n",
    "plt.ylabel(\"Average Salary\")\n",
    "plt.title(\"Average Salary by Role\")\n",
    "plt.xticks(rotation=45)\n",
    "plt.show()\n"
   ]
  },
  {
   "cell_type": "code",
   "execution_count": 0,
   "metadata": {
    "application/vnd.databricks.v1+cell": {
     "cellMetadata": {
      "byteLimit": 2048000,
      "rowLimit": 10000
     },
     "inputWidgets": {},
     "nuid": "df32cd35-6b2b-4d48-a955-7211e7b93877",
     "showTitle": false,
     "tableResultSettingsMap": {},
     "title": ""
    }
   },
   "outputs": [],
   "source": [
    "# Save the cleaned employee data as a table in the oms_analytics.default schema\n",
    "# cleaned_data \\\n",
    "#     .write \\\n",
    "#     .mode(\"overwrite\") \\\n",
    "#     .saveAsTable(\"oms_analytics.default.employee_details\")\n",
    "\n",
    "# Save the aggregated employee role summary data as a table in the oms_analytics.default schema\n",
    "# aggregated_data \\\n",
    "#     .write \\\n",
    "#     .mode(\"overwrite\") \\\n",
    "#     .saveAsTable(\"oms_analytics.default.employee_role_summary\")\n"
   ]
  }
 ],
 "metadata": {
  "application/vnd.databricks.v1+notebook": {
   "computePreferences": null,
   "dashboards": [],
   "environmentMetadata": {
    "base_environment": "",
    "environment_version": "2"
   },
   "inputWidgetPreferences": null,
   "language": "python",
   "notebookMetadata": {
    "mostRecentlyExecutedCommandWithImplicitDF": {
     "commandId": -1,
     "dataframes": [
      "_sqldf"
     ]
    },
    "pythonIndentUnit": 4
   },
   "notebookName": "transform_demo",
   "widgets": {}
  },
  "language_info": {
   "name": "python"
  }
 },
 "nbformat": 4,
 "nbformat_minor": 0
}
