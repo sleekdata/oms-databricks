{
 "cells": [
  {
   "cell_type": "code",
   "execution_count": 0,
   "metadata": {
    "application/vnd.databricks.v1+cell": {
     "cellMetadata": {
      "byteLimit": 2048000,
      "implicitDf": true,
      "rowLimit": 10000
     },
     "inputWidgets": {},
     "nuid": "c0cab4d8-8f6e-4cee-8704-6c16d4a9dcdc",
     "showTitle": true,
     "tableResultSettingsMap": {},
     "title": "Read Input Files into Temp View"
    }
   },
   "outputs": [],
   "source": [
    "-- Read each file into a named DataFrame using the parameterized base file path\n",
    "CREATE OR REPLACE TEMP VIEW employees_branch_a\n",
    "USING CSV\n",
    "OPTIONS (path = 'file:/Workspace/Users/sleekdatalabs@gmail.com/oms-databricks/00_sample_data/employees_branch_a.csv', header = \"true\");\n",
    "\n",
    "CREATE OR REPLACE TEMP VIEW employees_branch_b\n",
    "USING CSV\n",
    "OPTIONS (path = 'file:/Workspace/Users/sleekdatalabs@gmail.com/oms-databricks/00_sample_data/employees_branch_b.csv', header = \"true\");\n",
    "\n",
    "CREATE OR REPLACE TEMP VIEW job_history_branch_a\n",
    "USING CSV\n",
    "OPTIONS (path = 'file:/Workspace/Users/sleekdatalabs@gmail.com/oms-databricks/00_sample_data/job_history_branch_a.csv', header = \"true\");\n",
    "\n",
    "CREATE OR REPLACE TEMP VIEW job_history_branch_b\n",
    "USING CSV\n",
    "OPTIONS (path = 'file:/Workspace/Users/sleekdatalabs@gmail.com/oms-databricks/00_sample_data/job_history_branch_b.csv', header = \"true\");\n"
   ]
  },
  {
   "cell_type": "code",
   "execution_count": 0,
   "metadata": {
    "application/vnd.databricks.v1+cell": {
     "cellMetadata": {
      "byteLimit": 2048000,
      "rowLimit": 10000
     },
     "inputWidgets": {},
     "nuid": "2cb57a6c-fcaa-4c3d-938a-37ceb84709c6",
     "showTitle": true,
     "tableResultSettingsMap": {},
     "title": "Optional: Display Data from Temp View"
    }
   },
   "outputs": [],
   "source": [
    "-- Display a few rows from Temp View (you can use the same for all 4 tables)\n",
    "SELECT * FROM employees_branch_a LIMIT 5;"
   ]
  },
  {
   "cell_type": "code",
   "execution_count": 0,
   "metadata": {
    "application/vnd.databricks.v1+cell": {
     "cellMetadata": {
      "byteLimit": 2048000,
      "rowLimit": 10000
     },
     "inputWidgets": {},
     "nuid": "e6101cdb-f5f8-4959-bfc3-dab4e10eb58d",
     "showTitle": true,
     "tableResultSettingsMap": {},
     "title": "Transform 1 - Typecasting Columns"
    }
   },
   "outputs": [],
   "source": [
    "-- Typecasting employees\n",
    "CREATE OR REPLACE TEMP VIEW employees_branch_a_cast AS\n",
    "SELECT \n",
    "    employee_id,\n",
    "    name,\n",
    "    CAST(age AS INT) AS age,\n",
    "    CAST(salary AS DOUBLE) AS salary,\n",
    "    department,\n",
    "    CAST(join_date AS DATE) AS join_date,\n",
    "    branch,\n",
    "    gender\n",
    "FROM employees_branch_a;\n",
    "\n",
    "CREATE OR REPLACE TEMP VIEW employees_branch_b_cast AS\n",
    "SELECT \n",
    "    employee_id,\n",
    "    name,\n",
    "    CAST(age AS INT) AS age,\n",
    "    CAST(salary AS DOUBLE) AS salary,\n",
    "    department,\n",
    "    CAST(join_date AS DATE) AS join_date,\n",
    "    branch,\n",
    "    gender\n",
    "FROM employees_branch_b;\n",
    "\n",
    "-- Typecasting job_history\n",
    "CREATE OR REPLACE TEMP VIEW job_history_branch_a_cast AS\n",
    "SELECT \n",
    "    employee_id,\n",
    "    role,\n",
    "    CAST(start_date AS DATE) AS start_date,\n",
    "    CAST(end_date AS DATE) AS end_date\n",
    "FROM job_history_branch_a;\n",
    "\n",
    "CREATE OR REPLACE TEMP VIEW job_history_branch_b_cast AS\n",
    "SELECT \n",
    "    employee_id,\n",
    "    role,\n",
    "    CAST(start_date AS DATE) AS start_date,\n",
    "    CAST(end_date AS DATE) AS end_date\n",
    "FROM job_history_branch_b;"
   ]
  },
  {
   "cell_type": "code",
   "execution_count": 0,
   "metadata": {
    "application/vnd.databricks.v1+cell": {
     "cellMetadata": {
      "byteLimit": 2048000,
      "rowLimit": 10000
     },
     "inputWidgets": {},
     "nuid": "f7013bb4-7727-41fb-a097-c4fb1090217f",
     "showTitle": true,
     "tableResultSettingsMap": {},
     "title": "Transform 2 - Union"
    }
   },
   "outputs": [],
   "source": [
    "-- Union the employees and job history\n",
    "CREATE OR REPLACE TEMP VIEW employees_union AS\n",
    "SELECT * FROM employees_branch_a_cast\n",
    "UNION ALL\n",
    "SELECT * FROM employees_branch_b_cast;\n",
    "\n",
    "CREATE OR REPLACE TEMP VIEW job_history_union AS\n",
    "SELECT * FROM job_history_branch_a_cast\n",
    "UNION ALL\n",
    "SELECT * FROM job_history_branch_b_cast;"
   ]
  },
  {
   "cell_type": "code",
   "execution_count": 0,
   "metadata": {
    "application/vnd.databricks.v1+cell": {
     "cellMetadata": {
      "byteLimit": 2048000,
      "rowLimit": 10000
     },
     "inputWidgets": {},
     "nuid": "74c5e9be-c543-46f8-a1ec-a95578d87a8d",
     "showTitle": true,
     "tableResultSettingsMap": {},
     "title": "Transform 3- Join"
    }
   },
   "outputs": [],
   "source": [
    "-- Join the unioned employees with the unioned job history\n",
    "CREATE OR REPLACE TEMP VIEW joined_data AS\n",
    "SELECT \n",
    "    e.*,\n",
    "    j.role,\n",
    "    j.start_date,\n",
    "    j.end_date\n",
    "FROM employees_union AS e\n",
    "JOIN job_history_union AS j\n",
    "ON e.employee_id = j.employee_id;"
   ]
  },
  {
   "cell_type": "code",
   "execution_count": 0,
   "metadata": {
    "application/vnd.databricks.v1+cell": {
     "cellMetadata": {
      "byteLimit": 2048000,
      "rowLimit": 10000
     },
     "inputWidgets": {},
     "nuid": "a64a41f9-64c7-4a50-98ca-e1952a5d00c1",
     "showTitle": true,
     "tableResultSettingsMap": {},
     "title": "Transform 4 - Filter Rows"
    }
   },
   "outputs": [],
   "source": [
    "-- Filter rows with salary more than 50000\n",
    "CREATE OR REPLACE TEMP VIEW filtered_data AS\n",
    "SELECT *\n",
    "FROM joined_data\n",
    "WHERE salary > 50000;"
   ]
  },
  {
   "cell_type": "code",
   "execution_count": 0,
   "metadata": {
    "application/vnd.databricks.v1+cell": {
     "cellMetadata": {
      "byteLimit": 2048000,
      "rowLimit": 10000
     },
     "inputWidgets": {},
     "nuid": "c710b4a7-4f0f-49ed-ba05-cccb0fce4c01",
     "showTitle": true,
     "tableResultSettingsMap": {},
     "title": "Transform 5 - Select Columns"
    }
   },
   "outputs": [],
   "source": [
    "-- Select only relevant columns\n",
    "CREATE OR REPLACE TEMP VIEW selected_data AS\n",
    "SELECT employee_id, name, age, salary, department, join_date, gender, role, start_date, end_date\n",
    "FROM filtered_data;"
   ]
  },
  {
   "cell_type": "code",
   "execution_count": 0,
   "metadata": {
    "application/vnd.databricks.v1+cell": {
     "cellMetadata": {
      "byteLimit": 2048000,
      "rowLimit": 10000
     },
     "inputWidgets": {},
     "nuid": "3d526921-78e9-45c3-bd7c-3504747e3a08",
     "showTitle": true,
     "tableResultSettingsMap": {},
     "title": "Transform 6 - Sort"
    }
   },
   "outputs": [],
   "source": [
    "-- Sort based on employee_id and start_date (desc)\n",
    "CREATE OR REPLACE TEMP VIEW sorted_data AS\n",
    "SELECT *\n",
    "FROM selected_data\n",
    "ORDER BY employee_id ASC, start_date DESC;"
   ]
  },
  {
   "cell_type": "code",
   "execution_count": 0,
   "metadata": {
    "application/vnd.databricks.v1+cell": {
     "cellMetadata": {
      "byteLimit": 2048000,
      "rowLimit": 10000
     },
     "inputWidgets": {},
     "nuid": "c2a6ae73-f357-4e22-b12c-68fc05e6a989",
     "showTitle": true,
     "tableResultSettingsMap": {},
     "title": "Transform 7 - Dedup"
    }
   },
   "outputs": [],
   "source": [
    "-- Deduplicate to keep the latest active role for each employee\n",
    "CREATE OR REPLACE TEMP VIEW deduped_data AS\n",
    "SELECT *\n",
    "FROM (SELECT ROW_NUMBER() OVER (PARTITION BY employee_id ORDER BY start_date DESC) AS rn, *\n",
    "      FROM sorted_data) tmp\n",
    "WHERE rn = 1;"
   ]
  },
  {
   "cell_type": "code",
   "execution_count": 0,
   "metadata": {
    "application/vnd.databricks.v1+cell": {
     "cellMetadata": {
      "byteLimit": 2048000,
      "rowLimit": 10000
     },
     "inputWidgets": {},
     "nuid": "e1060122-d43d-432e-9235-a5334796bf93",
     "showTitle": true,
     "tableResultSettingsMap": {},
     "title": "Transform 8 - Create New Derived Column"
    }
   },
   "outputs": [],
   "source": [
    "-- Calculate years_in_service using join_date and current date\n",
    "CREATE OR REPLACE TEMP VIEW data_with_years_in_service AS\n",
    "SELECT *, \n",
    "       FLOOR(DATEDIFF(CURRENT_DATE(), join_date) / 365) AS years_in_service\n",
    "FROM deduped_data;"
   ]
  },
  {
   "cell_type": "code",
   "execution_count": 0,
   "metadata": {
    "application/vnd.databricks.v1+cell": {
     "cellMetadata": {
      "byteLimit": 2048000,
      "rowLimit": 10000
     },
     "inputWidgets": {},
     "nuid": "1c5fd64e-e06f-4430-b511-886c8ae622ce",
     "showTitle": true,
     "tableResultSettingsMap": {},
     "title": "Transform 9 - Null Handling"
    }
   },
   "outputs": [],
   "source": [
    "-- Drop rows where the role is Null\n",
    "CREATE OR REPLACE TEMP VIEW cleaned_data AS\n",
    "SELECT *\n",
    "FROM data_with_years_in_service\n",
    "WHERE role IS NOT NULL;\n",
    "\n",
    "-- Replace Null values in age with 0\n",
    "CREATE OR REPLACE TEMP VIEW cleaned_data_with_nulls_filled AS\n",
    "SELECT \n",
    "    employee_id,\n",
    "    name,\n",
    "    COALESCE(age, 0) AS age,\n",
    "    salary,\n",
    "    department,\n",
    "    join_date,\n",
    "    gender,\n",
    "    role,\n",
    "    start_date,\n",
    "    end_date,\n",
    "    years_in_service\n",
    "FROM cleaned_data;"
   ]
  },
  {
   "cell_type": "code",
   "execution_count": 0,
   "metadata": {
    "application/vnd.databricks.v1+cell": {
     "cellMetadata": {
      "byteLimit": 2048000,
      "rowLimit": 10000
     },
     "inputWidgets": {},
     "nuid": "1a3c371f-e593-4826-aaa6-7abe5879bd77",
     "showTitle": true,
     "tableResultSettingsMap": {},
     "title": "Transform 10 - Conditional Data Transformations"
    }
   },
   "outputs": [],
   "source": [
    "-- Replace 'M' with 'Male', 'F' with 'Female', and any other value with 'Other' in the gender column\n",
    "CREATE OR REPLACE TEMP VIEW cleaned_data_final AS\n",
    "SELECT \n",
    "    employee_id,\n",
    "    name,\n",
    "    age,\n",
    "    salary,\n",
    "    department,\n",
    "    join_date,\n",
    "    CASE \n",
    "        WHEN gender = 'M' THEN 'Male'\n",
    "        WHEN gender = 'F' THEN 'Female'\n",
    "        ELSE 'Other'\n",
    "    END AS gender,\n",
    "    role,\n",
    "    start_date,\n",
    "    end_date,\n",
    "    years_in_service\n",
    "FROM cleaned_data_with_nulls_filled;"
   ]
  },
  {
   "cell_type": "code",
   "execution_count": 0,
   "metadata": {
    "application/vnd.databricks.v1+cell": {
     "cellMetadata": {
      "byteLimit": 2048000,
      "rowLimit": 10000
     },
     "inputWidgets": {},
     "nuid": "2cf3a5f0-4f40-4223-bac8-2318f1ddf074",
     "showTitle": true,
     "tableResultSettingsMap": {},
     "title": "Transform 11 - Aggregate functions"
    }
   },
   "outputs": [],
   "source": [
    "-- Calculate the average, minimum, and maximum salary for each role\n",
    "CREATE OR REPLACE TEMP VIEW aggregated_data AS\n",
    "SELECT role, \n",
    "       AVG(salary) AS avg_salary,\n",
    "       MIN(salary) AS min_salary,\n",
    "       MAX(salary) AS max_salary\n",
    "FROM cleaned_data_final\n",
    "GROUP BY role;"
   ]
  },
  {
   "cell_type": "code",
   "execution_count": 0,
   "metadata": {
    "application/vnd.databricks.v1+cell": {
     "cellMetadata": {
      "byteLimit": 2048000,
      "rowLimit": 10000
     },
     "inputWidgets": {},
     "nuid": "770ac683-5971-427f-86d3-2b25261ba861",
     "showTitle": true,
     "tableResultSettingsMap": {},
     "title": "Display the Final DataFrames"
    }
   },
   "outputs": [],
   "source": [
    "-- We are just displaying the data here, but temp view can be loaded into a table as shown in the next cell\n",
    "select * from aggregated_data limit 5;"
   ]
  },
  {
   "cell_type": "code",
   "execution_count": 0,
   "metadata": {
    "application/vnd.databricks.v1+cell": {
     "cellMetadata": {},
     "inputWidgets": {},
     "nuid": "854866a1-42b3-43d7-bfc1-9ff049071ded",
     "showTitle": false,
     "tableResultSettingsMap": {},
     "title": ""
    }
   },
   "outputs": [],
   "source": [
    "-- Write cleaned_data_final as employee_details table\n",
    "-- CREATE OR REPLACE TABLE employee_details AS\n",
    "-- SELECT *\n",
    "-- FROM cleaned_data_final;\n",
    "\n",
    "-- Write aggregated_data as employee_role_summary table\n",
    "-- CREATE OR REPLACE TABLE employee_role_summary AS\n",
    "-- SELECT *\n",
    "-- FROM aggregated_data;\n"
   ]
  }
 ],
 "metadata": {
  "application/vnd.databricks.v1+notebook": {
   "computePreferences": null,
   "dashboards": [],
   "environmentMetadata": {
    "base_environment": "",
    "environment_version": "2"
   },
   "language": "sql",
   "notebookMetadata": {
    "mostRecentlyExecutedCommandWithImplicitDF": {
     "commandId": -1,
     "dataframes": [
      "_sqldf"
     ]
    },
    "pythonIndentUnit": 4
   },
   "notebookName": "transform_demo_sql",
   "widgets": {}
  },
  "language_info": {
   "name": "sql"
  }
 },
 "nbformat": 4,
 "nbformat_minor": 0
}
