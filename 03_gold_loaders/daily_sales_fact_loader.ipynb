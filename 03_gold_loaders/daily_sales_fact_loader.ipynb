{
 "cells": [
  {
   "cell_type": "code",
   "execution_count": 0,
   "metadata": {
    "application/vnd.databricks.v1+cell": {
     "cellMetadata": {
      "byteLimit": 2048000,
      "rowLimit": 10000
     },
     "inputWidgets": {},
     "nuid": "a4b8a090-b8e2-468f-981e-5ad9ff7ce41d",
     "showTitle": false,
     "tableResultSettingsMap": {},
     "title": ""
    }
   },
   "outputs": [],
   "source": [
    "from pyspark.sql import functions as F\n",
    "from delta.tables import DeltaTable\n",
    "\n",
    "# Read streaming data from the Silver tables\n",
    "orders_df = spark.readStream.table(\"oms_analytics.silver.orders\").alias(\"orders\")\n",
    "order_items_df = spark.readStream.table(\"oms_analytics.silver.order_items\").alias(\"order_items\")\n",
    "\n",
    "# Rename order timestamp to avoid ambiguity\n",
    "order_items_df = order_items_df.withColumnRenamed(\"order_timestamp\", \"order_item_timestamp\")\n",
    "\n",
    "# Add watermark to handle late arrivals\n",
    "orders_df = orders_df.withWatermark(\"order_timestamp\", \"2 minutes\")\n",
    "order_items_df = order_items_df.withWatermark(\"order_item_timestamp\", \"2 minutes\")\n",
    "\n",
    "# Join the orders and order_items dataframes\n",
    "joined_df = orders_df.join(order_items_df, \"order_id\")\n",
    "\n",
    "# Aggregate the data to get the necessary metrics\n",
    "aggregated_df = joined_df \\\n",
    "    .groupBy(\n",
    "        \"date_id\",\n",
    "        \"customer_id\",\n",
    "        \"product_id\",\n",
    "        F.window(\"order_timestamp\", \"5 minutes\")\n",
    "    ) \\\n",
    "    .agg(\n",
    "        F.sum(\"quantity\").alias(\"items_sold\"),\n",
    "        F.sum(\"line_total\").alias(\"sales_amount\")\n",
    "    ) \n",
    "\n",
    "# Extract window start and end times from the window\n",
    "aggregated_df = aggregated_df \\\n",
    "    .withColumn(\"window_start\", F.col(\"window.start\")) \\\n",
    "    .withColumn(\"window_end\", F.col(\"window.end\"))\n",
    "\n",
    "# Add other required fields\n",
    "final_df = aggregated_df \\\n",
    "    .withColumn(\"surrogate_key\", F.sha2(F.concat_ws(\"_\", \n",
    "        F.date_format(F.col(\"date_id\"), \"yyyyMMdd\"),\n",
    "        F.col(\"window_start\").cast(\"string\"),\n",
    "        F.col(\"window_end\").cast(\"string\"),\n",
    "        F.col(\"customer_id\").cast(\"string\"),\n",
    "        F.col(\"product_id\").cast(\"string\")\n",
    "    ), 256)) \\\n",
    "    .withColumn(\"process_id\", F.lit(\"de_nb_102\")) \\\n",
    "    .withColumn(\"gold_load_ts\", F.current_timestamp()) \\\n",
    "    .select(\n",
    "        \"surrogate_key\",\n",
    "        \"customer_id\",\n",
    "        \"date_id\",\n",
    "        \"window_start\",\n",
    "        \"window_end\",\n",
    "        \"product_id\",\n",
    "        \"items_sold\",\n",
    "        \"sales_amount\",\n",
    "        \"process_id\",\n",
    "        \"gold_load_ts\"\n",
    "    )\n",
    "\n",
    "# Define the checkpoint location\n",
    "external_location_name = \"abfss://orders@omslandingzone.dfs.core.windows.net\"\n",
    "checkpoint_location_daily_sales_fact = f\"{external_location_name}/checkpoints/gold_loader/daily_sales_fact\"\n",
    "\n",
    "# Append the aggregated metrics into the Delta table\n",
    "query = final_df.writeStream \\\n",
    "    .outputMode(\"append\") \\\n",
    "    .format(\"delta\") \\\n",
    "    .option(\"checkpointLocation\", checkpoint_location_daily_sales_fact) \\\n",
    "    .toTable(\"oms_analytics.gold.daily_sales_fact\")\n",
    "\n",
    "query.awaitTermination()\n"
   ]
  }
 ],
 "metadata": {
  "application/vnd.databricks.v1+notebook": {
   "computePreferences": null,
   "dashboards": [],
   "environmentMetadata": {
    "base_environment": "",
    "environment_version": "2"
   },
   "language": "python",
   "notebookMetadata": {
    "pythonIndentUnit": 4
   },
   "notebookName": "daily_sales_fact_loader",
   "widgets": {}
  },
  "language_info": {
   "name": "python"
  }
 },
 "nbformat": 4,
 "nbformat_minor": 0
}
