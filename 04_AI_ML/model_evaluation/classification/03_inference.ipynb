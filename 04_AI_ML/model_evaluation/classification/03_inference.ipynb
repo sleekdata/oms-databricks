{
 "cells": [
  {
   "cell_type": "code",
   "execution_count": 0,
   "metadata": {
    "application/vnd.databricks.v1+cell": {
     "cellMetadata": {
      "byteLimit": 2048000,
      "rowLimit": 10000
     },
     "inputWidgets": {},
     "nuid": "b5b658ef-f510-49de-abb8-a62c93255b33",
     "showTitle": false,
     "tableResultSettingsMap": {},
     "title": ""
    }
   },
   "outputs": [],
   "source": [
    "# ✅ Package installation\n",
    "restart_required = False\n",
    "\n",
    "try:\n",
    "    import databricks.feature_engineering\n",
    "except ImportError:\n",
    "    %pip install databricks-feature-engineering\n",
    "    restart_required = True\n",
    "\n",
    "try:\n",
    "    import xgboost\n",
    "except ImportError:\n",
    "    %pip install xgboost\n",
    "    restart_required = True\n",
    "\n",
    "try:\n",
    "    import catboost\n",
    "except ImportError:\n",
    "    %pip install catboost\n",
    "    restart_required = True\n",
    "\n",
    "try:\n",
    "    import lightgbm\n",
    "except ImportError:\n",
    "    %pip install lightgbm\n",
    "    restart_required = True\n",
    "\n",
    "\n",
    "if restart_required:\n",
    "    dbutils.library.restartPython()\n",
    "else:\n",
    "    print(\"✅ All required packages are already installed\")\n"
   ]
  },
  {
   "cell_type": "code",
   "execution_count": 0,
   "metadata": {
    "application/vnd.databricks.v1+cell": {
     "cellMetadata": {
      "byteLimit": 2048000,
      "rowLimit": 10000
     },
     "inputWidgets": {},
     "nuid": "e49dcbba-f039-42d9-a7a7-503b45def342",
     "showTitle": false,
     "tableResultSettingsMap": {},
     "title": ""
    }
   },
   "outputs": [],
   "source": [
    "from databricks.feature_engineering import FeatureEngineeringClient\n",
    "from pyspark.sql.functions import col\n",
    "import warnings\n",
    "\n",
    "# Ignore warnings\n",
    "warnings.filterwarnings(\"ignore\")\n",
    "\n",
    "# Initialize FeatureEngineeringClient\n",
    "fe = FeatureEngineeringClient()\n",
    "\n",
    "# 📌 Provide the list of Loan_IDs you want the model to predict loan default for (whether the loan will default or not)\n",
    "inference_df = spark.createDataFrame(\n",
    "    [\n",
    "        (\"WYAOELYX5Z\",), (\"M8U4OMXQ7S\",), (\"LMZXUP01GK\",), (\"5PX8PJSMXR\",), (\"67J8DLE7NJ\",),\n",
    "        (\"Q062RWOQ8V\",), (\"UBX80WMLMU\",), (\"RWHOOATTJR\",), (\"3KB0HQ2O3T\",), (\"CS2ERT8W3K\",),\n",
    "        (\"PZSSYJO31B\",), (\"E6ZXJUZT46\",), (\"RHYX92O7KQ\",), (\"0EB3G1RKPM\",), (\"1DYKK745U6\",)\n",
    "    ],\n",
    "    [\"LoanID\"]\n",
    ")\n",
    "\n",
    "# Define model name and version\n",
    "model_name = \"realestate.ml.loan_default_classifier\"\n",
    "model_version = 3  # Update version # as requested\n",
    "\n",
    "# Perform batch inference\n",
    "predictions_df = fe.score_batch(\n",
    "    model_uri=f\"models:/{model_name}/{model_version}\",\n",
    "    df=inference_df\n",
    ")\n",
    "\n",
    "# Show results: Loan_ID and predicted class (default or no default)\n",
    "print(\"🔍 Prediction : 1 = Loan is likely to default, 0 = Loan is NOT likely to default\")\n",
    "display(predictions_df.select(\"LoanID\", \"prediction\"))\n"
   ]
  }
 ],
 "metadata": {
  "application/vnd.databricks.v1+notebook": {
   "computePreferences": null,
   "dashboards": [],
   "environmentMetadata": {
    "base_environment": "",
    "environment_version": "2"
   },
   "inputWidgetPreferences": null,
   "language": "python",
   "notebookMetadata": {
    "pythonIndentUnit": 4
   },
   "notebookName": "03_inference",
   "widgets": {}
  },
  "language_info": {
   "name": "python"
  }
 },
 "nbformat": 4,
 "nbformat_minor": 0
}
