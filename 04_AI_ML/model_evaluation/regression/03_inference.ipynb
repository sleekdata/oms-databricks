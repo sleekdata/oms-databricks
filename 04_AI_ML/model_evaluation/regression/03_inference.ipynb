{
 "cells": [
  {
   "cell_type": "code",
   "execution_count": 0,
   "metadata": {
    "application/vnd.databricks.v1+cell": {
     "cellMetadata": {
      "byteLimit": 2048000,
      "rowLimit": 10000
     },
     "inputWidgets": {},
     "nuid": "4b2724c6-8ddf-4606-85bd-0ec7f61d5cfd",
     "showTitle": false,
     "tableResultSettingsMap": {},
     "title": ""
    }
   },
   "outputs": [],
   "source": [
    "# ✅ Check and install required packages if missing\n",
    "restart_required = False\n",
    "\n",
    "try:\n",
    "    import databricks.feature_engineering\n",
    "except ImportError:\n",
    "    %pip install databricks-feature-engineering\n",
    "    restart_required = True\n",
    "\n",
    "try:\n",
    "    import xgboost\n",
    "except ImportError:\n",
    "    %pip install xgboost\n",
    "    restart_required = True\n",
    "\n",
    "try:\n",
    "    import lightgbm\n",
    "except ImportError:\n",
    "    %pip install lightgbm\n",
    "    restart_required = True\n",
    "\n",
    "try:\n",
    "    import catboost\n",
    "except ImportError:\n",
    "    %pip install catboost\n",
    "    restart_required = True\n",
    "\n",
    "# 🔁 Restart Python only if any package was installed\n",
    "if restart_required:\n",
    "    dbutils.library.restartPython()\n"
   ]
  },
  {
   "cell_type": "code",
   "execution_count": 0,
   "metadata": {
    "application/vnd.databricks.v1+cell": {
     "cellMetadata": {
      "byteLimit": 2048000,
      "rowLimit": 10000
     },
     "inputWidgets": {},
     "nuid": "87c6c81b-5127-4643-a416-19bb17156747",
     "showTitle": false,
     "tableResultSettingsMap": {},
     "title": ""
    }
   },
   "outputs": [],
   "source": [
    "from databricks.feature_engineering import FeatureEngineeringClient\n",
    "from mlflow.tracking import MlflowClient\n",
    "from pyspark.sql.functions import col\n",
    "\n",
    "# Initialize FeatureEngineeringClient\n",
    "fe = FeatureEngineeringClient()\n",
    "\n",
    "# Input House_IDs for prediction\n",
    "inference_df = spark.createDataFrame(\n",
    "    [(490,), (491,), (492,), (493,), (494,), (495,)],\n",
    "    [\"House_ID\"]\n",
    ").withColumn(\"House_ID\", col(\"House_ID\").cast(\"INTEGER\"))\n",
    "\n",
    "# Define model name and version manually\n",
    "model_name = \"realestate.ml.housing_price_model\"\n",
    "model_version = 6  # 🔧 Set the desired model version here\n",
    "\n",
    "# Perform batch inference\n",
    "predictions_df = fe.score_batch(\n",
    "    model_uri=f\"models:/{model_name}/{model_version}\",\n",
    "    df=inference_df\n",
    ")\n",
    "\n",
    "# Show results\n",
    "display(predictions_df.select(\"House_ID\", \"prediction\"))"
   ]
  }
 ],
 "metadata": {
  "application/vnd.databricks.v1+notebook": {
   "computePreferences": null,
   "dashboards": [],
   "environmentMetadata": {
    "base_environment": "",
    "environment_version": "2"
   },
   "inputWidgetPreferences": null,
   "language": "python",
   "notebookMetadata": {
    "pythonIndentUnit": 4
   },
   "notebookName": "03_inference",
   "widgets": {}
  },
  "language_info": {
   "name": "python"
  }
 },
 "nbformat": 4,
 "nbformat_minor": 0
}
