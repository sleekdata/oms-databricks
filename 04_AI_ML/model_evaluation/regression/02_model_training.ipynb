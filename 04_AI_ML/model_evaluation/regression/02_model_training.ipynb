{
 "cells": [
  {
   "cell_type": "code",
   "execution_count": 0,
   "metadata": {
    "application/vnd.databricks.v1+cell": {
     "cellMetadata": {
      "byteLimit": 2048000,
      "rowLimit": 10000
     },
     "inputWidgets": {},
     "nuid": "d7e5ff97-abe3-420a-af02-e6970752c51a",
     "showTitle": false,
     "tableResultSettingsMap": {},
     "title": ""
    }
   },
   "outputs": [],
   "source": [
    "# ✅ Check and install required packages if missing\n",
    "restart_required = False\n",
    "\n",
    "try:\n",
    "    import databricks.feature_engineering\n",
    "except ImportError:\n",
    "    %pip install databricks-feature-engineering\n",
    "    restart_required = True\n",
    "\n",
    "try:\n",
    "    import xgboost\n",
    "except ImportError:\n",
    "    %pip install xgboost\n",
    "    restart_required = True\n",
    "\n",
    "try:\n",
    "    import lightgbm\n",
    "except ImportError:\n",
    "    %pip install lightgbm\n",
    "    restart_required = True\n",
    "\n",
    "try:\n",
    "    import catboost\n",
    "except ImportError:\n",
    "    %pip install catboost\n",
    "    restart_required = True\n",
    "\n",
    "# 🔁 Restart Python only if any package was installed\n",
    "if restart_required:\n",
    "    dbutils.library.restartPython()\n"
   ]
  },
  {
   "cell_type": "code",
   "execution_count": 0,
   "metadata": {
    "application/vnd.databricks.v1+cell": {
     "cellMetadata": {
      "byteLimit": 2048000,
      "rowLimit": 10000
     },
     "inputWidgets": {},
     "nuid": "580c4d0f-1408-4b8c-b686-5068a93e102e",
     "showTitle": true,
     "tableResultSettingsMap": {},
     "title": "Fetch Features and Label"
    }
   },
   "outputs": [],
   "source": [
    "# Imports\n",
    "from databricks.feature_engineering import FeatureEngineeringClient, FeatureLookup\n",
    "from sklearn.tree import DecisionTreeRegressor\n",
    "from sklearn.ensemble import RandomForestRegressor\n",
    "from sklearn.neighbors import KNeighborsRegressor\n",
    "from catboost import CatBoostRegressor\n",
    "from sklearn.metrics import mean_absolute_error, mean_squared_error, r2_score\n",
    "from sklearn.model_selection import train_test_split\n",
    "import xgboost as xgb\n",
    "import lightgbm as lgb\n",
    "import mlflow\n",
    "import mlflow.sklearn\n",
    "from mlflow.exceptions import MlflowException\n",
    "import pandas as pd\n",
    "import warnings\n",
    "\n",
    "\n",
    "warnings.filterwarnings(\"ignore\")\n",
    "\n",
    "\n",
    "# Initialize FeatureEngineeringClient\n",
    "fe = FeatureEngineeringClient()\n",
    "\n",
    "# Use your catalog/schema\n",
    "spark.sql(\"USE CATALOG realestate\")\n",
    "spark.sql(\"USE SCHEMA ml\")\n",
    "\n",
    "# Load labels (House_ID and Price)\n",
    "base_file_path = \"file:/Workspace/Users/yasodhashree91@gmail.com/oms-databricks/04_AI_ML/model_evaluation/regression/data_files/\"\n",
    "labels_df = spark.read.csv(base_file_path + \"housing.csv\", header=True, inferSchema=True)\\\n",
    "    .select(\"House_ID\", \"Price\")\\\n",
    "    .dropna(subset=[\"Price\"])  # drop rows where Price is null\n",
    "\n",
    "\n",
    "# Define feature lookup from feature store\n",
    "feature_lookups = [\n",
    "    FeatureLookup(\n",
    "        table_name=\"realestate.ml.housing_features\",\n",
    "        lookup_key=\"House_ID\"\n",
    "    )\n",
    "]\n",
    "\n",
    "# Create training set with features joined\n",
    "training_set = fe.create_training_set(\n",
    "    df=labels_df,\n",
    "    feature_lookups=feature_lookups,\n",
    "    label=\"Price\",\n",
    "    exclude_columns=[\"House_ID\"]\n",
    ")\n",
    "\n",
    "# Load to pandas DataFrame\n",
    "data = training_set.load_df().toPandas()\n",
    "\n",
    "# Split into X and y\n",
    "X = data.drop(columns=[\"Price\"])            # Features (X)\n",
    "y = data[\"Price\"]                           # Label (y)\n"
   ]
  },
  {
   "cell_type": "code",
   "execution_count": 0,
   "metadata": {
    "application/vnd.databricks.v1+cell": {
     "cellMetadata": {
      "byteLimit": 2048000,
      "rowLimit": 10000
     },
     "inputWidgets": {},
     "nuid": "1135590b-4355-4bcd-8963-964ce3896467",
     "showTitle": true,
     "tableResultSettingsMap": {},
     "title": "Train and log model"
    }
   },
   "outputs": [],
   "source": [
    "\n",
    "\n",
    "# Split Features (X) and Label (y) into training and testing sets (80% train, 20% test)\n",
    "X_train, X_test, y_train, y_test = train_test_split(X, y, test_size=0.2, random_state=42)\n",
    "\n",
    "#Model setup and configurations\n",
    "model_variants = {\n",
    "    \"Decision Tree\": DecisionTreeRegressor(random_state=42),\n",
    "    \"Random Forest\": RandomForestRegressor(n_estimators=100, max_depth=5, random_state=42),\n",
    "    \"KNN\": KNeighborsRegressor(n_neighbors=5),\n",
    "    \"XGBoost\": xgb.XGBRegressor(n_estimators=100, max_depth=5, learning_rate=0.1, random_state=42),\n",
    "    \"LightGBM\": lgb.LGBMRegressor(max_depth=5, min_gain_to_split=0, verbosity=-1, random_state=42),\n",
    "    \"CatBoost\": CatBoostRegressor(iterations=100, depth=5, learning_rate=0.1, random_seed=42, verbose=False, allow_writing_files=False)\n",
    "}\n",
    "\n",
    "for name, model in model_variants.items():\n",
    "    with mlflow.start_run(run_name=name):\n",
    "        # Train\n",
    "        model.fit(X_train, y_train)\n",
    "\n",
    "        # Predict\n",
    "        preds = model.predict(X_test)\n",
    "\n",
    "        # Calculate metrics\n",
    "        mae = mean_absolute_error(y_test, preds)\n",
    "        mse = mean_squared_error(y_test, preds)\n",
    "        rmse = mean_squared_error(y_test, preds, squared=False)\n",
    "        r2 = r2_score(y_test, preds)\n",
    "\n",
    "        # Log model with feature store info\n",
    "        fe.log_model(\n",
    "            model=model,\n",
    "            artifact_path=name.replace(\" \", \"_\").lower(),\n",
    "            flavor=mlflow.sklearn,\n",
    "            training_set=training_set,\n",
    "            registered_model_name=\"housing_price_model\"\n",
    "        )\n",
    "\n",
    "    print(f\"Model Variant: {name}\")\n",
    "    print(f\"Mean Absolute Error (MAE): {mae:.16f}\")\n",
    "    print(f\"Mean Squared Error (MSE): {mse:.16f}\")\n",
    "    print(f\"Root Mean Squared Error (RMSE): {rmse:.16f}\")   \n",
    "    print(f\"R-squared (R²): {r2:.16f}\")\n",
    "\n",
    "    print(\"=\" * 100)\n"
   ]
  },
  {
   "cell_type": "markdown",
   "metadata": {
    "application/vnd.databricks.v1+cell": {
     "cellMetadata": {},
     "inputWidgets": {},
     "nuid": "4d80c0c2-a077-4a20-8e38-c5300e1e06c9",
     "showTitle": false,
     "tableResultSettingsMap": {},
     "title": ""
    }
   },
   "source": [
    "| Metric | Full Form               | Better When | What It Means                                                                                  |\n",
    "|--------|-------------------------|-------------|-----------------------------------------------------------------------------------------------|\n",
    "| MAE    | Mean Absolute Error     | Lower       | The average size of the errors, showing how far predictions are from actual values on average |\n",
    "| MSE    | Mean Squared Error      | Lower       | Like MAE, but bigger errors are penalized more because it squares the differences before averaging     |\n",
    "| RMSE   | Root Mean Squared Error | Lower       | The square root of MSE, so errors are back in the original units, making them easier to understand |\n",
    "| R²     | R-squared               | Higher      | Shows how closely the model’s predictions follow the real data patterns; 1 is perfect, 0 means no relation. |\n",
    "\n"
   ]
  }
 ],
 "metadata": {
  "application/vnd.databricks.v1+notebook": {
   "computePreferences": null,
   "dashboards": [],
   "environmentMetadata": {
    "base_environment": "",
    "environment_version": "2"
   },
   "inputWidgetPreferences": null,
   "language": "python",
   "notebookMetadata": {
    "pythonIndentUnit": 4
   },
   "notebookName": "02_model_training",
   "widgets": {}
  },
  "language_info": {
   "name": "python"
  }
 },
 "nbformat": 4,
 "nbformat_minor": 0
}
