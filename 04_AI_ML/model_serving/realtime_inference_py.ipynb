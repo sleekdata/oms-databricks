{
 "cells": [
  {
   "cell_type": "code",
   "execution_count": 0,
   "metadata": {
    "application/vnd.databricks.v1+cell": {
     "cellMetadata": {
      "byteLimit": 2048000,
      "rowLimit": 10000
     },
     "inputWidgets": {},
     "nuid": "7e15ed3b-d8e4-41f5-9c97-aa5b2be78ff0",
     "showTitle": false,
     "tableResultSettingsMap": {},
     "title": ""
    }
   },
   "outputs": [],
   "source": [
    "# Endpoint Inference within Databricks Using Python\n",
    "\n",
    "# Please refer to the code lines from the GitHub link provided in the video description for detailed implementation."
   ]
  },
  {
   "cell_type": "code",
   "execution_count": 0,
   "metadata": {
    "application/vnd.databricks.v1+cell": {
     "cellMetadata": {
      "byteLimit": 2048000,
      "rowLimit": 10000
     },
     "inputWidgets": {},
     "nuid": "a5d29c2d-b008-496e-97f6-ff10076c1522",
     "showTitle": false,
     "tableResultSettingsMap": {},
     "title": ""
    }
   },
   "outputs": [],
   "source": [
    "\n",
    "import os\n",
    "import requests\n",
    "import json\n",
    "import pandas as pd\n",
    "\n",
    "def score_model():\n",
    "    url = 'https://adb-2374904683636125.5.azuredatabricks.net/serving-endpoints/house-price-prediction/invocations'\n",
    "    headers = {\n",
    "        'Authorization': f'xxxxx',\n",
    "        'Content-Type': 'application/json'\n",
    "    }\n",
    "\n",
    "    # Input with two House_IDs\n",
    "    input_data = pd.DataFrame({'House_ID': [490, 491]})\n",
    "    payload = {'dataframe_split': input_data.to_dict(orient='split')}\n",
    "\n",
    "    response = requests.post(url, headers=headers, data=json.dumps(payload))\n",
    "    if response.status_code != 200:\n",
    "        raise Exception(f\"Request failed: {response.status_code} - {response.text}\")\n",
    "\n",
    "    return response.json()\n",
    "\n",
    "# Run scoring\n",
    "predictions = score_model()\n",
    "print(json.dumps(predictions, indent=2))\n"
   ]
  }
 ],
 "metadata": {
  "application/vnd.databricks.v1+notebook": {
   "computePreferences": null,
   "dashboards": [],
   "environmentMetadata": {
    "base_environment": "",
    "environment_version": "2"
   },
   "inputWidgetPreferences": null,
   "language": "python",
   "notebookMetadata": {
    "pythonIndentUnit": 4
   },
   "notebookName": "realtime_inference_py",
   "widgets": {}
  },
  "language_info": {
   "name": "python"
  }
 },
 "nbformat": 4,
 "nbformat_minor": 0
}
