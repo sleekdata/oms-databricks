{
 "cells": [
  {
   "cell_type": "markdown",
   "metadata": {
    "application/vnd.databricks.v1+cell": {
     "cellMetadata": {
      "byteLimit": 2048000,
      "rowLimit": 10000
     },
     "inputWidgets": {},
     "nuid": "453a3037-e21c-40e1-8e59-f9fadfc9063b",
     "showTitle": false,
     "tableResultSettingsMap": {},
     "title": ""
    }
   },
   "source": [
    "## **3. Algorithm: Decision Tree**  \n",
    "### **Type: Supervised**\n",
    "\n",
    "A **Decision Tree** is like a flowchart that makes decisions by asking a series of yes/no questions, such as:\n",
    "- Is the email from a company domain?\n",
    "- Does it contain spam keywords?\n",
    "- Are there spelling mistakes?"
   ]
  },
  {
   "cell_type": "code",
   "execution_count": 0,
   "metadata": {
    "application/vnd.databricks.v1+cell": {
     "cellMetadata": {
      "byteLimit": 2048000,
      "rowLimit": 10000
     },
     "inputWidgets": {},
     "nuid": "47ff8ce6-6f3a-4991-adc7-8cc73a0fe7dc",
     "showTitle": false,
     "tableResultSettingsMap": {},
     "title": ""
    }
   },
   "outputs": [],
   "source": [
    "# Prepare training dataset\n",
    "import pandas as pd\n",
    "\n",
    "email_data = pd.DataFrame({\n",
    "    \"from_company_domain\": [1, 0, 0, 0, 1],  # 1 means email from company domain, 0 means not\n",
    "    \"num_risky_keywords\": [0, 3, 5, 2, 0],    # Number of risky keywords in email\n",
    "    \"num_spelling_mistakes\": [0, 2, 1, 5, 0], # Number of spelling mistakes in email\n",
    "    \"spam_or_not\": [0, 1, 0, 1, 0]            # 0 = not spam, 1 = spam\n",
    "})\n",
    "\n",
    "display(email_data)"
   ]
  },
  {
   "cell_type": "code",
   "execution_count": 0,
   "metadata": {
    "application/vnd.databricks.v1+cell": {
     "cellMetadata": {
      "byteLimit": 2048000,
      "rowLimit": 10000
     },
     "inputWidgets": {},
     "nuid": "12072bd4-d00f-4927-b832-4dd3c8f8df7f",
     "showTitle": false,
     "tableResultSettingsMap": {},
     "title": ""
    }
   },
   "outputs": [],
   "source": [
    "# Train a Decision Tree Classifier\n",
    "from sklearn.tree import DecisionTreeClassifier\n",
    "\n",
    "# Features and label\n",
    "X = email_data[[\"from_company_domain\", \"num_risky_keywords\", \"num_spelling_mistakes\"]]  # Features\n",
    "y = email_data[\"spam_or_not\"]  # Label\n",
    "\n",
    "# Decision Tree model\n",
    "dt_model = DecisionTreeClassifier()\n",
    "dt_model.fit(X, y)\n"
   ]
  },
  {
   "cell_type": "code",
   "execution_count": 0,
   "metadata": {
    "application/vnd.databricks.v1+cell": {
     "cellMetadata": {
      "byteLimit": 2048000,
      "rowLimit": 10000
     },
     "inputWidgets": {},
     "nuid": "a432b489-d734-4a4e-bd18-0a156d40c6b5",
     "showTitle": false,
     "tableResultSettingsMap": {},
     "title": ""
    }
   },
   "outputs": [],
   "source": [
    "# Make predictions using the trained Decision Tree model\n",
    "new_emails = pd.DataFrame({\n",
    "    \"from_company_domain\": [0, 1],\n",
    "    \"num_risky_keywords\": [1, 2], \n",
    "    \"num_spelling_mistakes\": [1, 3] \n",
    "})\n",
    "\n",
    "dt_predictions = dt_model.predict(new_emails)\n",
    "\n",
    "# Print predictions for new emails\n",
    "for i, prediction in enumerate(dt_predictions):\n",
    "    if prediction == 1:\n",
    "        print(f\"Email {i + 1}: Spam\")\n",
    "    else:\n",
    "        print(f\"Email {i + 1}: Not Spam\")\n"
   ]
  }
 ],
 "metadata": {
  "application/vnd.databricks.v1+notebook": {
   "computePreferences": null,
   "dashboards": [],
   "environmentMetadata": {
    "base_environment": "",
    "environment_version": "2"
   },
   "inputWidgetPreferences": null,
   "language": "python",
   "notebookMetadata": {
    "pythonIndentUnit": 4
   },
   "notebookName": "03_decision_tree",
   "widgets": {}
  },
  "language_info": {
   "name": "python"
  }
 },
 "nbformat": 4,
 "nbformat_minor": 0
}
