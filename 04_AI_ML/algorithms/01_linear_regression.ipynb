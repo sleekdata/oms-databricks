{
 "cells": [
  {
   "cell_type": "markdown",
   "metadata": {
    "application/vnd.databricks.v1+cell": {
     "cellMetadata": {
      "byteLimit": 2048000,
      "rowLimit": 10000
     },
     "inputWidgets": {},
     "nuid": "453a3037-e21c-40e1-8e59-f9fadfc9063b",
     "showTitle": false,
     "tableResultSettingsMap": {},
     "title": ""
    }
   },
   "source": [
    "## **1. Algorithm: Linear Regression**  \n",
    "### **Type: Supervised**\n",
    "\n",
    "We’re building a simple linear regression model to predict house prices based on size and number of rooms.  \n",
    "This is a regression task, where the label (price) is continuous or any number."
   ]
  },
  {
   "cell_type": "code",
   "execution_count": 0,
   "metadata": {
    "application/vnd.databricks.v1+cell": {
     "cellMetadata": {
      "byteLimit": 2048000,
      "rowLimit": 10000
     },
     "inputWidgets": {},
     "nuid": "47ff8ce6-6f3a-4991-adc7-8cc73a0fe7dc",
     "showTitle": false,
     "tableResultSettingsMap": {},
     "title": ""
    }
   },
   "outputs": [],
   "source": [
    "# Prepare training dataset\n",
    "import pandas as pd\n",
    "\n",
    "training_data = pd.DataFrame({\n",
    "    \"size_sqft\": [1200, 500, 1500, 750, 1000],             # Feature1\n",
    "    \"num_rooms\": [3, 1, 4, 2, 3],                          # Feature2\n",
    "    \"price\": [275000, 150000, 350000, 200000, 250000]      # Label\n",
    "})\n",
    "\n",
    "display(training_data)"
   ]
  },
  {
   "cell_type": "code",
   "execution_count": 0,
   "metadata": {
    "application/vnd.databricks.v1+cell": {
     "cellMetadata": {
      "byteLimit": 2048000,
      "rowLimit": 10000
     },
     "inputWidgets": {},
     "nuid": "12072bd4-d00f-4927-b832-4dd3c8f8df7f",
     "showTitle": false,
     "tableResultSettingsMap": {},
     "title": ""
    }
   },
   "outputs": [],
   "source": [
    "# Train a linear regression model\n",
    "from sklearn.linear_model import LinearRegression\n",
    "\n",
    "model = LinearRegression()\n",
    "model.fit(training_data[[\"size_sqft\", \"num_rooms\"]], training_data[\"price\"])"
   ]
  },
  {
   "cell_type": "code",
   "execution_count": 0,
   "metadata": {
    "application/vnd.databricks.v1+cell": {
     "cellMetadata": {
      "byteLimit": 2048000,
      "rowLimit": 10000
     },
     "inputWidgets": {},
     "nuid": "a432b489-d734-4a4e-bd18-0a156d40c6b5",
     "showTitle": false,
     "tableResultSettingsMap": {},
     "title": ""
    }
   },
   "outputs": [],
   "source": [
    "# Make predictions using the trained model\n",
    "new_data = pd.DataFrame({\n",
    "    \"size_sqft\": [950, 1300],\n",
    "    \"num_rooms\": [2, 3]\n",
    "})\n",
    "\n",
    "predictions = model.predict(new_data)\n",
    "\n",
    "# Print Predicted Prices\n",
    "for i in range(len(new_data)):\n",
    "    print(f\"Predicted price for a {new_data['size_sqft'][i]} sqft house with {new_data['num_rooms'][i]} rooms: ${predictions[i]:,.2f}\")\n"
   ]
  }
 ],
 "metadata": {
  "application/vnd.databricks.v1+notebook": {
   "computePreferences": null,
   "dashboards": [],
   "environmentMetadata": {
    "base_environment": "",
    "environment_version": "2"
   },
   "inputWidgetPreferences": null,
   "language": "python",
   "notebookMetadata": {
    "pythonIndentUnit": 4
   },
   "notebookName": "01_linear_regression",
   "widgets": {}
  },
  "language_info": {
   "name": "python"
  }
 },
 "nbformat": 4,
 "nbformat_minor": 0
}
