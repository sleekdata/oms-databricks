{
 "cells": [
  {
   "cell_type": "markdown",
   "metadata": {
    "application/vnd.databricks.v1+cell": {
     "cellMetadata": {
      "byteLimit": 2048000,
      "rowLimit": 10000
     },
     "inputWidgets": {},
     "nuid": "453a3037-e21c-40e1-8e59-f9fadfc9063b",
     "showTitle": false,
     "tableResultSettingsMap": {},
     "title": ""
    }
   },
   "source": [
    "## **2. Algorithm: Classification (Logistic Regression)**  \n",
    "### **Type: Supervised**\n",
    "\n",
    "Classification is used when the label is a predefined category — like \"spam\" or \"not spam\".\n",
    "\n",
    "While binary classification (Like Yes or No) is common, some models can handle more than two categories — such as classifying a vehicle as a Car, Truck, Bus, or Motorcycle.\n"
   ]
  },
  {
   "cell_type": "code",
   "execution_count": 0,
   "metadata": {
    "application/vnd.databricks.v1+cell": {
     "cellMetadata": {
      "byteLimit": 2048000,
      "rowLimit": 10000
     },
     "inputWidgets": {},
     "nuid": "47ff8ce6-6f3a-4991-adc7-8cc73a0fe7dc",
     "showTitle": false,
     "tableResultSettingsMap": {},
     "title": ""
    }
   },
   "outputs": [],
   "source": [
    "# Prepare training dataset\n",
    "import pandas as pd\n",
    "\n",
    "email_data = pd.DataFrame({\n",
    "    \"from_company_domain\": [1, 0, 0, 0, 1],  # 1 means email is from company domain\n",
    "    \"num_risky_keywords\": [0, 4, 1, 3, 0],   # Number of risky keywords (e.g., \"free\", \"offer\")\n",
    "    \"spam_or_not\": [0, 1, 0, 1, 0]           # 1 = spam, 0 = not spam\n",
    "})\n",
    "\n",
    "display(email_data)\n"
   ]
  },
  {
   "cell_type": "code",
   "execution_count": 0,
   "metadata": {
    "application/vnd.databricks.v1+cell": {
     "cellMetadata": {
      "byteLimit": 2048000,
      "rowLimit": 10000
     },
     "inputWidgets": {},
     "nuid": "12072bd4-d00f-4927-b832-4dd3c8f8df7f",
     "showTitle": false,
     "tableResultSettingsMap": {},
     "title": ""
    }
   },
   "outputs": [],
   "source": [
    "# Train a logistic regression model\n",
    "from sklearn.linear_model import LogisticRegression\n",
    "\n",
    "X = email_data[[\"from_company_domain\", \"num_risky_keywords\"]]  # Features\n",
    "y = email_data[\"spam_or_not\"]  # Label\n",
    "\n",
    "model = LogisticRegression()\n",
    "model.fit(X, y)"
   ]
  },
  {
   "cell_type": "code",
   "execution_count": 0,
   "metadata": {
    "application/vnd.databricks.v1+cell": {
     "cellMetadata": {
      "byteLimit": 2048000,
      "rowLimit": 10000
     },
     "inputWidgets": {},
     "nuid": "a432b489-d734-4a4e-bd18-0a156d40c6b5",
     "showTitle": false,
     "tableResultSettingsMap": {},
     "title": ""
    }
   },
   "outputs": [],
   "source": [
    "# Make predictions using the trained model\n",
    "new_emails = pd.DataFrame({\n",
    "    \"from_company_domain\": [0, 1], \n",
    "    \"num_risky_keywords\": [3, 0]  \n",
    "})\n",
    "\n",
    "predictions = model.predict(new_emails)\n",
    "\n",
    "# Print predictions for new emails\n",
    "for i, pred in enumerate(predictions):\n",
    "    if pred == 1:\n",
    "        print(f\"Email {i + 1}: Spam\")\n",
    "    else:\n",
    "        print(f\"Email {i + 1}: Not Spam\")\n"
   ]
  }
 ],
 "metadata": {
  "application/vnd.databricks.v1+notebook": {
   "computePreferences": null,
   "dashboards": [],
   "environmentMetadata": {
    "base_environment": "",
    "environment_version": "2"
   },
   "inputWidgetPreferences": null,
   "language": "python",
   "notebookMetadata": {
    "pythonIndentUnit": 4
   },
   "notebookName": "02_logistic_regression",
   "widgets": {}
  },
  "language_info": {
   "name": "python"
  }
 },
 "nbformat": 4,
 "nbformat_minor": 0
}
