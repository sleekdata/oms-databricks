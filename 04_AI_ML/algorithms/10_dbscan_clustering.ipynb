{
 "cells": [
  {
   "cell_type": "markdown",
   "metadata": {
    "application/vnd.databricks.v1+cell": {
     "cellMetadata": {
      "byteLimit": 2048000,
      "rowLimit": 10000
     },
     "inputWidgets": {},
     "nuid": "453a3037-e21c-40e1-8e59-f9fadfc9063b",
     "showTitle": false,
     "tableResultSettingsMap": {},
     "title": ""
    }
   },
   "source": [
    "## **10. Algorithm: DBSCAN** (Density-Based Spatial Clustering of Applications with Noise)\n",
    "### **Type: Unsupervised (Anomaly Detection via Clustering)**  \n",
    "DBSCAN identifies clusters as dense regions and flags low-density points (noise) as anomalies (`-1` label)."
   ]
  },
  {
   "cell_type": "code",
   "execution_count": 0,
   "metadata": {
    "application/vnd.databricks.v1+cell": {
     "cellMetadata": {
      "byteLimit": 2048000,
      "rowLimit": 10000
     },
     "inputWidgets": {},
     "nuid": "47ff8ce6-6f3a-4991-adc7-8cc73a0fe7dc",
     "showTitle": false,
     "tableResultSettingsMap": {},
     "title": ""
    }
   },
   "outputs": [],
   "source": [
    "import pandas as pd\n",
    "\n",
    "# Simulated transaction data with clear anomalies\n",
    "df = pd.DataFrame({\n",
    "    \"transaction_id\": [1, 2, 3, 4, 5, 6, 7, 8],\n",
    "    \"transaction_amount\": [50, 60, 55, 52, 5000, 58, 62, 10000],\n",
    "    \"country_risk_score\": [2, 2, 3, 2, 10, 3, 2, 7]  # High score = high risk\n",
    "})\n"
   ]
  },
  {
   "cell_type": "code",
   "execution_count": 0,
   "metadata": {
    "application/vnd.databricks.v1+cell": {
     "cellMetadata": {
      "byteLimit": 2048000,
      "rowLimit": 10000
     },
     "inputWidgets": {},
     "nuid": "12072bd4-d00f-4927-b832-4dd3c8f8df7f",
     "showTitle": false,
     "tableResultSettingsMap": {},
     "title": ""
    }
   },
   "outputs": [],
   "source": [
    "from sklearn.cluster import DBSCAN\n",
    "\n",
    "# DBSCAN training (eps & min_samples chosen for small, obvious clusters)\n",
    "dbscan = DBSCAN(eps=10, min_samples=2)\n",
    "df[\"anomaly\"] = dbscan.fit_predict(df[[\"transaction_amount\", \"country_risk_score\"]])"
   ]
  },
  {
   "cell_type": "code",
   "execution_count": 0,
   "metadata": {
    "application/vnd.databricks.v1+cell": {
     "cellMetadata": {
      "byteLimit": 2048000,
      "rowLimit": 10000
     },
     "inputWidgets": {},
     "nuid": "a432b489-d734-4a4e-bd18-0a156d40c6b5",
     "showTitle": false,
     "tableResultSettingsMap": {},
     "title": ""
    }
   },
   "outputs": [],
   "source": [
    "# Show results\n",
    "display(df)"
   ]
  }
 ],
 "metadata": {
  "application/vnd.databricks.v1+notebook": {
   "computePreferences": null,
   "dashboards": [],
   "environmentMetadata": {
    "base_environment": "",
    "environment_version": "2"
   },
   "inputWidgetPreferences": null,
   "language": "python",
   "notebookMetadata": {
    "pythonIndentUnit": 4
   },
   "notebookName": "10_dbscan_clustering",
   "widgets": {}
  },
  "language_info": {
   "name": "python"
  }
 },
 "nbformat": 4,
 "nbformat_minor": 0
}
