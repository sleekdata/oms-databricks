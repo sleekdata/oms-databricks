{
 "cells": [
  {
   "cell_type": "markdown",
   "metadata": {
    "application/vnd.databricks.v1+cell": {
     "cellMetadata": {
      "byteLimit": 2048000,
      "rowLimit": 10000
     },
     "inputWidgets": {},
     "nuid": "453a3037-e21c-40e1-8e59-f9fadfc9063b",
     "showTitle": false,
     "tableResultSettingsMap": {},
     "title": ""
    }
   },
   "source": [
    "## **8. Algorithm: KMeans Clustering**  \n",
    "### **Type: Unsupervised**\n",
    "\n",
    "In unsupervised learning, the model identifies patterns in the data without predefined labels. KMeans is commonly used for clustering tasks like customer segmentation, where we want the model to discover natural groupings of data.\n"
   ]
  },
  {
   "cell_type": "code",
   "execution_count": 0,
   "metadata": {
    "application/vnd.databricks.v1+cell": {
     "cellMetadata": {
      "byteLimit": 2048000,
      "rowLimit": 10000
     },
     "inputWidgets": {},
     "nuid": "eb381a34-f02c-408d-9f74-3d2f23c2c974",
     "showTitle": false,
     "tableResultSettingsMap": {},
     "title": ""
    }
   },
   "outputs": [],
   "source": [
    "# Upgrade threadpoolctl to avoid Databricks internal warnings\n",
    "%pip install --upgrade threadpoolctl\n",
    "dbutils.library.restartPython()"
   ]
  },
  {
   "cell_type": "code",
   "execution_count": 0,
   "metadata": {
    "application/vnd.databricks.v1+cell": {
     "cellMetadata": {
      "byteLimit": 2048000,
      "rowLimit": 10000
     },
     "inputWidgets": {},
     "nuid": "47ff8ce6-6f3a-4991-adc7-8cc73a0fe7dc",
     "showTitle": false,
     "tableResultSettingsMap": {},
     "title": ""
    }
   },
   "outputs": [],
   "source": [
    "# Prepare training dataset\n",
    "import pandas as pd\n",
    "\n",
    "df = pd.DataFrame({\n",
    "    \"customer_id\": [1, 2, 3, 4, 5],                     # Unique customer ID\n",
    "    \"monthly_spend\": [100, 150, 300, 1200, 1100],       # Customer's monthly spend\n",
    "    \"visits_per_month\": [1, 2, 3, 12, 10]               # Number of visits per month\n",
    "})"
   ]
  },
  {
   "cell_type": "code",
   "execution_count": 0,
   "metadata": {
    "application/vnd.databricks.v1+cell": {
     "cellMetadata": {
      "byteLimit": 2048000,
      "rowLimit": 10000
     },
     "inputWidgets": {},
     "nuid": "12072bd4-d00f-4927-b832-4dd3c8f8df7f",
     "showTitle": false,
     "tableResultSettingsMap": {},
     "title": ""
    }
   },
   "outputs": [],
   "source": [
    "# Train the KMeans clustering model\n",
    "from sklearn.cluster import KMeans\n",
    "\n",
    "kmeans = KMeans(n_clusters=2, n_init=10)  # We want to divide the customers into 2 groups\n",
    "kmeans.fit(df[[\"monthly_spend\", \"visits_per_month\"]])  # Train only on features\n",
    "\n",
    "df['cluster'] = kmeans.labels_  # Assign cluster labels to customers\n",
    "df"
   ]
  },
  {
   "cell_type": "code",
   "execution_count": 0,
   "metadata": {
    "application/vnd.databricks.v1+cell": {
     "cellMetadata": {
      "byteLimit": 2048000,
      "rowLimit": 10000
     },
     "inputWidgets": {},
     "nuid": "a432b489-d734-4a4e-bd18-0a156d40c6b5",
     "showTitle": false,
     "tableResultSettingsMap": {},
     "title": ""
    }
   },
   "outputs": [],
   "source": [
    "# Make predictions on new data - Predict cluster for new customer\n",
    "new_data = pd.DataFrame({\n",
    "    \"customer_id\": [6],     \n",
    "    \"monthly_spend\": [700],      \n",
    "    \"visits_per_month\": [8]  \n",
    "})\n",
    "new_data['cluster'] = kmeans.predict(new_data[[\"monthly_spend\", \"visits_per_month\"]])  \n",
    "print(f\"New customer {new_data['customer_id'][0]} belongs to cluster: {new_data['cluster'][0]}\")\n"
   ]
  }
 ],
 "metadata": {
  "application/vnd.databricks.v1+notebook": {
   "computePreferences": null,
   "dashboards": [],
   "environmentMetadata": {
    "base_environment": "",
    "environment_version": "2"
   },
   "inputWidgetPreferences": null,
   "language": "python",
   "notebookMetadata": {
    "pythonIndentUnit": 4
   },
   "notebookName": "08_kmeans_clustering",
   "widgets": {}
  },
  "language_info": {
   "name": "python"
  }
 },
 "nbformat": 4,
 "nbformat_minor": 0
}
