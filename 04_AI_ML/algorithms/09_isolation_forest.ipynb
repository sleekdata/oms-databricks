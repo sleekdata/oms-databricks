{
 "cells": [
  {
   "cell_type": "markdown",
   "metadata": {
    "application/vnd.databricks.v1+cell": {
     "cellMetadata": {
      "byteLimit": 2048000,
      "rowLimit": 10000
     },
     "inputWidgets": {},
     "nuid": "453a3037-e21c-40e1-8e59-f9fadfc9063b",
     "showTitle": false,
     "tableResultSettingsMap": {},
     "title": ""
    }
   },
   "source": [
    "## **9. Algorithm: Isolation Forest**  \n",
    "### **Type: Unsupervised**\n",
    "\n",
    "We will use the Isolation Forest algorithm to detect anomalies in a dataset of transactions. A few transactions will stand out as anomalies, and we will identify these outliers based on transaction amounts and country risk scores."
   ]
  },
  {
   "cell_type": "code",
   "execution_count": 0,
   "metadata": {
    "application/vnd.databricks.v1+cell": {
     "cellMetadata": {
      "byteLimit": 2048000,
      "rowLimit": 10000
     },
     "inputWidgets": {},
     "nuid": "47ff8ce6-6f3a-4991-adc7-8cc73a0fe7dc",
     "showTitle": false,
     "tableResultSettingsMap": {},
     "title": ""
    }
   },
   "outputs": [],
   "source": [
    "# Prepare training dataset\n",
    "import pandas as pd\n",
    "\n",
    "df = pd.DataFrame({\n",
    "    \"transaction_amount\": [50, 70, 100, 110, 200, 1000, 60, 90, 150, 5000],\n",
    "    \"country_risk_score\": [2, 2, 2, 1, 3, 10, 2, 3, 2, 8]  # Higher score indicates higher risk\n",
    "})\n"
   ]
  },
  {
   "cell_type": "code",
   "execution_count": 0,
   "metadata": {
    "application/vnd.databricks.v1+cell": {
     "cellMetadata": {
      "byteLimit": 2048000,
      "rowLimit": 10000
     },
     "inputWidgets": {},
     "nuid": "12072bd4-d00f-4927-b832-4dd3c8f8df7f",
     "showTitle": false,
     "tableResultSettingsMap": {},
     "title": ""
    }
   },
   "outputs": [],
   "source": [
    "# Train the Isolation Forest model\n",
    "from sklearn.ensemble import IsolationForest\n",
    "\n",
    "model = IsolationForest(n_estimators=10, random_state=5)  # Train with 10 trees\n",
    "\n",
    "# Fit the model to the data\n",
    "model.fit(df[[\"transaction_amount\", \"country_risk_score\"]])\n",
    "\n",
    "# Predict anomalies: 1 for normal, -1 for anomaly\n",
    "df['anomaly'] = model.predict(df[[\"transaction_amount\", \"country_risk_score\"]])\n",
    "\n",
    "\n"
   ]
  },
  {
   "cell_type": "code",
   "execution_count": 0,
   "metadata": {
    "application/vnd.databricks.v1+cell": {
     "cellMetadata": {
      "byteLimit": 2048000,
      "rowLimit": 10000
     },
     "inputWidgets": {},
     "nuid": "a432b489-d734-4a4e-bd18-0a156d40c6b5",
     "showTitle": false,
     "tableResultSettingsMap": {},
     "title": ""
    }
   },
   "outputs": [],
   "source": [
    "# Show results\n",
    "display(df)"
   ]
  }
 ],
 "metadata": {
  "application/vnd.databricks.v1+notebook": {
   "computePreferences": null,
   "dashboards": [],
   "environmentMetadata": {
    "base_environment": "",
    "environment_version": "2"
   },
   "inputWidgetPreferences": null,
   "language": "python",
   "notebookMetadata": {
    "pythonIndentUnit": 4
   },
   "notebookName": "09_isolation_forest",
   "widgets": {}
  },
  "language_info": {
   "name": "python"
  }
 },
 "nbformat": 4,
 "nbformat_minor": 0
}
