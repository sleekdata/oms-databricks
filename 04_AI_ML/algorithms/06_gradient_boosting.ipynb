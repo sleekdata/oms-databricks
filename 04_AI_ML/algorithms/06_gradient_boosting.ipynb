{
 "cells": [
  {
   "cell_type": "markdown",
   "metadata": {
    "application/vnd.databricks.v1+cell": {
     "cellMetadata": {
      "byteLimit": 2048000,
      "rowLimit": 10000
     },
     "inputWidgets": {},
     "nuid": "453a3037-e21c-40e1-8e59-f9fadfc9063b",
     "showTitle": false,
     "tableResultSettingsMap": {},
     "title": ""
    }
   },
   "source": [
    "## **6. Algorithm: Gradient Boosting**  \n",
    "### **Type: Supervised**\n",
    "\n",
    "Gradient Boosting builds decision trees sequentially — each tree tries to fix errors made by the previous one. \n"
   ]
  },
  {
   "cell_type": "code",
   "execution_count": 0,
   "metadata": {
    "application/vnd.databricks.v1+cell": {
     "cellMetadata": {
      "byteLimit": 2048000,
      "rowLimit": 10000
     },
     "inputWidgets": {},
     "nuid": "47ff8ce6-6f3a-4991-adc7-8cc73a0fe7dc",
     "showTitle": false,
     "tableResultSettingsMap": {},
     "title": ""
    }
   },
   "outputs": [],
   "source": [
    "# Prepare training dataset\n",
    "import pandas as pd\n",
    "\n",
    "training_data = pd.DataFrame({\n",
    "    \"size_sqft\": [1200, 500, 1500, 750, 1000],              # Size of the house in square feet\n",
    "    \"num_rooms\": [3, 1, 4, 2, 3],                           # Number of rooms in the house\n",
    "    \"city_tier\": [1, 3, 1, 2, 2],                           # City tier category\n",
    "    \"price\": [275000, 150000, 350000, 200000, 250000]       # House price\n",
    "})\n"
   ]
  },
  {
   "cell_type": "code",
   "execution_count": 0,
   "metadata": {
    "application/vnd.databricks.v1+cell": {
     "cellMetadata": {
      "byteLimit": 2048000,
      "rowLimit": 10000
     },
     "inputWidgets": {},
     "nuid": "12072bd4-d00f-4927-b832-4dd3c8f8df7f",
     "showTitle": false,
     "tableResultSettingsMap": {},
     "title": ""
    }
   },
   "outputs": [],
   "source": [
    "# Train a Gradient Boosting model\n",
    "from sklearn.ensemble import GradientBoostingRegressor\n",
    "\n",
    "X = training_data[[\"size_sqft\", \"num_rooms\", \"city_tier\"]]\n",
    "y = training_data[\"price\"]\n",
    "\n",
    "gb_model = GradientBoostingRegressor()\n",
    "gb_model.fit(X, y)\n"
   ]
  },
  {
   "cell_type": "code",
   "execution_count": 0,
   "metadata": {
    "application/vnd.databricks.v1+cell": {
     "cellMetadata": {
      "byteLimit": 2048000,
      "rowLimit": 10000
     },
     "inputWidgets": {},
     "nuid": "a432b489-d734-4a4e-bd18-0a156d40c6b5",
     "showTitle": false,
     "tableResultSettingsMap": {},
     "title": ""
    }
   },
   "outputs": [],
   "source": [
    "# Make predictions using the trained model\n",
    "new_data = pd.DataFrame({\n",
    "    \"size_sqft\": [950],\n",
    "    \"num_rooms\": [2],\n",
    "    \"city_tier\": [2]\n",
    "})\n",
    "\n",
    "prediction = gb_model.predict(new_data)\n",
    "print(f\"Predicted price for a {new_data['size_sqft'][0]} sqft house with {new_data['num_rooms'][0]} rooms in city tier {new_data['city_tier'][0]}: ${prediction[0]:,.2f}\")\n"
   ]
  },
  {
   "cell_type": "code",
   "execution_count": 0,
   "metadata": {
    "application/vnd.databricks.v1+cell": {
     "cellMetadata": {
      "byteLimit": 2048000,
      "rowLimit": 10000
     },
     "inputWidgets": {},
     "nuid": "909aa16b-d5a4-4760-b8f8-673bcf113482",
     "showTitle": false,
     "tableResultSettingsMap": {},
     "title": ""
    }
   },
   "outputs": [],
   "source": [
    "### Tere's also a GradientBoosting version for classification use cases ### \n",
    "\n",
    "# from sklearn.ensemble import GradientBoostingClassifier\n",
    "\n",
    "# X = email_data[[\"from_company_domain\", \"num_risky_keywords\", \"num_spelling_mistakes\"]]\n",
    "# Y = email_data[\"spam_or_not\"]\n",
    "\n",
    "# gb_classifier = GradientBoostingClassifier(n_estimators=10) \n",
    "# gb_classifier.fit(X, Y)"
   ]
  }
 ],
 "metadata": {
  "application/vnd.databricks.v1+notebook": {
   "computePreferences": null,
   "dashboards": [],
   "environmentMetadata": {
    "base_environment": "",
    "environment_version": "2"
   },
   "inputWidgetPreferences": null,
   "language": "python",
   "notebookMetadata": {
    "pythonIndentUnit": 4
   },
   "notebookName": "06_gradient_boosting",
   "widgets": {}
  },
  "language_info": {
   "name": "python"
  }
 },
 "nbformat": 4,
 "nbformat_minor": 0
}
