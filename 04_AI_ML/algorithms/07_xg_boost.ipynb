{
 "cells": [
  {
   "cell_type": "markdown",
   "metadata": {
    "application/vnd.databricks.v1+cell": {
     "cellMetadata": {
      "byteLimit": 2048000,
      "rowLimit": 10000
     },
     "inputWidgets": {},
     "nuid": "453a3037-e21c-40e1-8e59-f9fadfc9063b",
     "showTitle": false,
     "tableResultSettingsMap": {},
     "title": ""
    }
   },
   "source": [
    "## **7. Algorithm: XGBoost**  \n",
    "### **Type: Supervised**\n",
    "\n",
    "XGBoost builds decision trees sequentially and optimizes learning using boosting techniques. It is a powerful tool widely used in both regression and classification tasks.\n"
   ]
  },
  {
   "cell_type": "code",
   "execution_count": 0,
   "metadata": {
    "application/vnd.databricks.v1+cell": {
     "cellMetadata": {
      "byteLimit": 2048000,
      "rowLimit": 10000
     },
     "inputWidgets": {},
     "nuid": "05994fcd-4789-48b3-81a2-4378b20593ef",
     "showTitle": false,
     "tableResultSettingsMap": {},
     "title": ""
    }
   },
   "outputs": [],
   "source": [
    "# Install xgboost if it's not already installed\n",
    "try:\n",
    "    import xgboost\n",
    "except ImportError:\n",
    "    %pip install xgboost\n",
    "    dbutils.library.restartPython()"
   ]
  },
  {
   "cell_type": "code",
   "execution_count": 0,
   "metadata": {
    "application/vnd.databricks.v1+cell": {
     "cellMetadata": {
      "byteLimit": 2048000,
      "rowLimit": 10000
     },
     "inputWidgets": {},
     "nuid": "47ff8ce6-6f3a-4991-adc7-8cc73a0fe7dc",
     "showTitle": false,
     "tableResultSettingsMap": {},
     "title": ""
    }
   },
   "outputs": [],
   "source": [
    "# Prepare training dataset\n",
    "import pandas as pd\n",
    "\n",
    "training_data = pd.DataFrame({\n",
    "    \"size_sqft\": [1200, 500, 1500, 750, 1000],              # Size of the house in square feet\n",
    "    \"num_rooms\": [3, 1, 4, 2, 3],                           # Number of rooms in the house\n",
    "    \"city_tier\": [1, 3, 1, 2, 2],                           # City tier category\n",
    "    \"price\": [275000, 150000, 350000, 200000, 250000]       # House price\n",
    "})\n"
   ]
  },
  {
   "cell_type": "code",
   "execution_count": 0,
   "metadata": {
    "application/vnd.databricks.v1+cell": {
     "cellMetadata": {
      "byteLimit": 2048000,
      "rowLimit": 10000
     },
     "inputWidgets": {},
     "nuid": "12072bd4-d00f-4927-b832-4dd3c8f8df7f",
     "showTitle": false,
     "tableResultSettingsMap": {},
     "title": ""
    }
   },
   "outputs": [],
   "source": [
    "# Train an XGBoost Regressor model\n",
    "import xgboost as xgb\n",
    "\n",
    "X = training_data[[\"size_sqft\", \"num_rooms\", \"city_tier\"]]\n",
    "y = training_data[\"price\"]\n",
    "\n",
    "# Convert data to DMatrix format\n",
    "dtrain = xgb.DMatrix(X, label=y)\n",
    "\n",
    "# Train the model\n",
    "model = xgb.train({}, dtrain, num_boost_round=100)\n"
   ]
  },
  {
   "cell_type": "code",
   "execution_count": 0,
   "metadata": {
    "application/vnd.databricks.v1+cell": {
     "cellMetadata": {
      "byteLimit": 2048000,
      "rowLimit": 10000
     },
     "inputWidgets": {},
     "nuid": "a432b489-d734-4a4e-bd18-0a156d40c6b5",
     "showTitle": false,
     "tableResultSettingsMap": {},
     "title": ""
    }
   },
   "outputs": [],
   "source": [
    "# Make predictions using the trained XGBoost model\n",
    "new_data = pd.DataFrame({\n",
    "    \"size_sqft\": [950],\n",
    "    \"num_rooms\": [2],\n",
    "    \"city_tier\": [2]\n",
    "})\n",
    "\n",
    "dnew = xgb.DMatrix(new_data)\n",
    "predictions = model.predict(dnew)\n",
    "\n",
    "print(f\"Predicted price for a {new_data['size_sqft'][0]} sqft house: ${predictions[0]:,.2f}\")\n"
   ]
  },
  {
   "cell_type": "code",
   "execution_count": 0,
   "metadata": {
    "application/vnd.databricks.v1+cell": {
     "cellMetadata": {
      "byteLimit": 2048000,
      "rowLimit": 10000
     },
     "inputWidgets": {},
     "nuid": "909aa16b-d5a4-4760-b8f8-673bcf113482",
     "showTitle": false,
     "tableResultSettingsMap": {},
     "title": ""
    }
   },
   "outputs": [],
   "source": [
    "### There’s also an XGBoost version for classification use cases.\n",
    "\n",
    "# from xgboost import XGBClassifier\n",
    "\n",
    "# X = email_data[[\"from_company_domain\", \"num_risky_keywords\", \"num_spelling_mistakes\"]]\n",
    "# y = email_data[\"spam_or_not\"]\n",
    "\n",
    "# classifier = XGBClassifier(n_estimators=100)\n",
    "# classifier.fit(X, y)"
   ]
  }
 ],
 "metadata": {
  "application/vnd.databricks.v1+notebook": {
   "computePreferences": null,
   "dashboards": [],
   "environmentMetadata": {
    "base_environment": "",
    "environment_version": "2"
   },
   "inputWidgetPreferences": null,
   "language": "python",
   "notebookMetadata": {
    "pythonIndentUnit": 4
   },
   "notebookName": "07_xg_boost",
   "widgets": {}
  },
  "language_info": {
   "name": "python"
  }
 },
 "nbformat": 4,
 "nbformat_minor": 0
}
