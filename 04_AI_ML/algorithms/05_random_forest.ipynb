{
 "cells": [
  {
   "cell_type": "markdown",
   "metadata": {
    "application/vnd.databricks.v1+cell": {
     "cellMetadata": {
      "byteLimit": 2048000,
      "rowLimit": 10000
     },
     "inputWidgets": {},
     "nuid": "453a3037-e21c-40e1-8e59-f9fadfc9063b",
     "showTitle": false,
     "tableResultSettingsMap": {},
     "title": ""
    }
   },
   "source": [
    "## **5. Algorithm: Random Forest (Multi-class)**  \n",
    "### **Type: Supervised**\n",
    "\n",
    "Unlike binary classification which predicts only two classes (like spam or not), multi-class classification deals with problems where we need to predict one label out of **three or more fixed categories**.\n",
    "\n",
    "For example, classifying a vehicle as either a **Car**, **Bus**, **Truck**, or **Bike** based on basic features like weight and engine size.\n"
   ]
  },
  {
   "cell_type": "code",
   "execution_count": 0,
   "metadata": {
    "application/vnd.databricks.v1+cell": {
     "cellMetadata": {
      "byteLimit": 2048000,
      "rowLimit": 10000
     },
     "inputWidgets": {},
     "nuid": "47ff8ce6-6f3a-4991-adc7-8cc73a0fe7dc",
     "showTitle": false,
     "tableResultSettingsMap": {},
     "title": ""
    }
   },
   "outputs": [],
   "source": [
    "# Prepare training dataset\n",
    "import pandas as pd\n",
    "\n",
    "vehicle_data = pd.DataFrame({\n",
    "    \"weight_kg\": [1200, 8000, 300, 10000, 1500, 500, 7000, 1300],  # Approximate weights\n",
    "    \"engine_size_l\": [1.6, 6.0, 0.2, 7.0, 1.8, 0.15, 5.5, 2.0],     # Engine size in liters\n",
    "    \"vehicle_type\": [\"Car\", \"Bus\", \"Bike\", \"Truck\", \"Car\", \"Bike\", \"Truck\", \"Car\"]\n",
    "})\n",
    "\n",
    "display(vehicle_data)\n"
   ]
  },
  {
   "cell_type": "code",
   "execution_count": 0,
   "metadata": {
    "application/vnd.databricks.v1+cell": {
     "cellMetadata": {
      "byteLimit": 2048000,
      "rowLimit": 10000
     },
     "inputWidgets": {},
     "nuid": "12072bd4-d00f-4927-b832-4dd3c8f8df7f",
     "showTitle": false,
     "tableResultSettingsMap": {},
     "title": ""
    }
   },
   "outputs": [],
   "source": [
    "# Train a Random Forest model\n",
    "from sklearn.ensemble import RandomForestClassifier\n",
    "\n",
    "X = vehicle_data[[\"weight_kg\", \"engine_size_l\"]]  # Features\n",
    "y = vehicle_data[\"vehicle_type\"]  # Label\n",
    "\n",
    "model = RandomForestClassifier(random_state=10)\n",
    "model.fit(X, y)\n"
   ]
  },
  {
   "cell_type": "code",
   "execution_count": 0,
   "metadata": {
    "application/vnd.databricks.v1+cell": {
     "cellMetadata": {
      "byteLimit": 2048000,
      "rowLimit": 10000
     },
     "inputWidgets": {},
     "nuid": "a432b489-d734-4a4e-bd18-0a156d40c6b5",
     "showTitle": false,
     "tableResultSettingsMap": {},
     "title": ""
    }
   },
   "outputs": [],
   "source": [
    "# Make predictions using the trained model\n",
    "new_vehicles = pd.DataFrame({\n",
    "    \"weight_kg\": [1400, 6000, 250],\n",
    "    \"engine_size_l\": [1.5, 5.0, 0.1]\n",
    "})\n",
    "\n",
    "predictions = model.predict(new_vehicles)\n",
    "\n",
    "# Print predictions for new vehicles\n",
    "for i, pred in enumerate(predictions):\n",
    "    print(f\"Vehicle {i + 1}: {pred}\")\n"
   ]
  },
  {
   "cell_type": "code",
   "execution_count": 0,
   "metadata": {
    "application/vnd.databricks.v1+cell": {
     "cellMetadata": {
      "byteLimit": 2048000,
      "rowLimit": 10000
     },
     "inputWidgets": {},
     "nuid": "909aa16b-d5a4-4760-b8f8-673bcf113482",
     "showTitle": false,
     "tableResultSettingsMap": {},
     "title": ""
    }
   },
   "outputs": [],
   "source": [
    "### Tere's also a RandomForest version for regression use cases ###\n",
    "\n",
    "# from sklearn.ensemble import RandomForestRegressor\n",
    "\n",
    "# training_data = pd.DataFrame({\n",
    "#     \"size_sqft\": [1200, 500, 1500, 750, 1000],  \n",
    "#     \"num_rooms\": [3, 1, 4, 2, 3], \n",
    "#     \"city_tier\": [1, 3, 1, 2, 2], \n",
    "#     \"price\": [275000, 150000, 350000, 200000, 250000] \n",
    "# })\n",
    "\n",
    "# X = training_data[[\"size_sqft\", \"num_rooms\", \"city_tier\"]]\n",
    "# y = training_data[\"price\"] \n",
    "\n",
    "# rf_model = RandomForestRegressor(n_estimators=10)\n",
    "# rf_model.fit(X, y)"
   ]
  }
 ],
 "metadata": {
  "application/vnd.databricks.v1+notebook": {
   "computePreferences": null,
   "dashboards": [],
   "environmentMetadata": {
    "base_environment": "",
    "environment_version": "2"
   },
   "inputWidgetPreferences": null,
   "language": "python",
   "notebookMetadata": {
    "pythonIndentUnit": 4
   },
   "notebookName": "05_random_forest",
   "widgets": {}
  },
  "language_info": {
   "name": "python"
  }
 },
 "nbformat": 4,
 "nbformat_minor": 0
}
