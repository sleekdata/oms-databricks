{
 "cells": [
  {
   "cell_type": "code",
   "execution_count": 0,
   "metadata": {
    "application/vnd.databricks.v1+cell": {
     "cellMetadata": {
      "byteLimit": 2048000,
      "rowLimit": 10000
     },
     "inputWidgets": {},
     "nuid": "9fc182a0-07d8-4487-9190-769525f8d7d9",
     "showTitle": true,
     "tableResultSettingsMap": {},
     "title": "Fetch Features and Label"
    }
   },
   "outputs": [],
   "source": [
    "from databricks.feature_engineering import FeatureEngineeringClient, FeatureLookup\n",
    "from sklearn.ensemble import RandomForestClassifier\n",
    "import mlflow\n",
    "\n",
    "# Initialize FeatureEngineeringClient\n",
    "fe = FeatureEngineeringClient()\n",
    "\n",
    "# Set Unity Catalog and schema\n",
    "spark.sql(\"USE CATALOG oms_analytics\")\n",
    "spark.sql(\"USE SCHEMA ml\")\n",
    "\n",
    "# Load customer_id and label (is_churn) from historical data soruce (it could table a in real world cases)\n",
    "labels_df = spark.read.csv(\n",
    "    \"file:/Workspace/Users/yasodhashree91@gmail.com/oms-databricks/04_AI_ML/feature_eng/data_files/customers.csv\", header=True, inferSchema=True).select(\"customer_id\", \"is_churn\")\n",
    "\n",
    "# Define Feature Lookup from feature store\n",
    "feature_lookups = [\n",
    "    FeatureLookup(\n",
    "        table_name=\"oms_analytics.feature_store.customers_features\",\n",
    "        lookup_key=\"customer_id\"\n",
    "    )\n",
    "]\n",
    "\n",
    "# Create training set with feature enrichment\n",
    "training_set = fe.create_training_set(\n",
    "    df=labels_df,\n",
    "    feature_lookups=feature_lookups,\n",
    "    label=\"is_churn\",\n",
    "    exclude_columns=[\"customer_id\"]\n",
    ")\n",
    "\n",
    "# Load to pandas DataFrame\n",
    "train_pdf = training_set.load_df().toPandas()\n",
    "\n",
    "# Split into features (X) and label (y)\n",
    "X = train_pdf.drop(columns=[\"is_churn\"])\n",
    "y = train_pdf[\"is_churn\"]\n"
   ]
  },
  {
   "cell_type": "code",
   "execution_count": 0,
   "metadata": {
    "application/vnd.databricks.v1+cell": {
     "cellMetadata": {
      "byteLimit": 2048000,
      "rowLimit": 10000
     },
     "inputWidgets": {},
     "nuid": "e629ff39-5d61-4de0-86ab-fb4a1c8e2808",
     "showTitle": true,
     "tableResultSettingsMap": {},
     "title": "Train and log model"
    }
   },
   "outputs": [],
   "source": [
    "# Train and log model with MLflow\n",
    "mlflow.sklearn.autolog(log_models=False)\n",
    "\n",
    "with mlflow.start_run():\n",
    "    model = RandomForestClassifier(n_estimators=100, max_depth=5, random_state=42)\n",
    "    model.fit(X, y)\n",
    "\n",
    "    fe.log_model(\n",
    "        model=model,\n",
    "        artifact_path=\"churn_prediction\",\n",
    "        flavor=mlflow.sklearn,\n",
    "        training_set=training_set,\n",
    "        registered_model_name=\"churn_prediction_model\",\n",
    "    )"
   ]
  }
 ],
 "metadata": {
  "application/vnd.databricks.v1+notebook": {
   "computePreferences": null,
   "dashboards": [],
   "environmentMetadata": {
    "base_environment": "",
    "environment_version": "2"
   },
   "inputWidgetPreferences": null,
   "language": "python",
   "notebookMetadata": {
    "pythonIndentUnit": 4
   },
   "notebookName": "02_model_training",
   "widgets": {}
  },
  "language_info": {
   "name": "python"
  }
 },
 "nbformat": 4,
 "nbformat_minor": 0
}
