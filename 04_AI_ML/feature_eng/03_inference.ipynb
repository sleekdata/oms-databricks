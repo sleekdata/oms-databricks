{
 "cells": [
  {
   "cell_type": "code",
   "execution_count": 0,
   "metadata": {
    "application/vnd.databricks.v1+cell": {
     "cellMetadata": {
      "byteLimit": 2048000,
      "rowLimit": 10000
     },
     "inputWidgets": {},
     "nuid": "1bd579b9-347a-4401-ba85-b5f1b611de43",
     "showTitle": true,
     "tableResultSettingsMap": {},
     "title": "Inference (Prediction)"
    }
   },
   "outputs": [],
   "source": [
    "from databricks.feature_engineering import FeatureEngineeringClient\n",
    "from mlflow.tracking import MlflowClient\n",
    "\n",
    "# Initialize FeatureEngineeringClient\n",
    "fe = FeatureEngineeringClient()\n",
    "\n",
    "# Input customer IDs for prediction\n",
    "inference_df = spark.createDataFrame(\n",
    "    [(\"C1001\",), (\"C1002\",), (\"C1003\",), (\"C1004\",), (\"C1005\",)],\n",
    "    [\"customer_id\"]\n",
    ")\n",
    "\n",
    "# Get latest model version from registry\n",
    "def get_latest_model_version(model_name):\n",
    "    client = MlflowClient()\n",
    "    versions = client.search_model_versions(f\"name='{model_name}'\")\n",
    "    return max(int(mv.version) for mv in versions)\n",
    "\n",
    "model_name = \"oms_analytics.ml.churn_prediction_model\"\n",
    "latest_version = get_latest_model_version(model_name)\n",
    "\n",
    "# Perform batch inference (prediction)\n",
    "predictions_df = fe.score_batch(\n",
    "    model_uri=f\"models:/{model_name}/{latest_version}\",\n",
    "    df=inference_df\n",
    ")\n",
    "\n",
    "# Show results: prediction = 1.0 means customer might leave (churn), 0.0 means they likely stay\n",
    "display(predictions_df.select(\"customer_id\", \"prediction\"))\n"
   ]
  }
 ],
 "metadata": {
  "application/vnd.databricks.v1+notebook": {
   "computePreferences": null,
   "dashboards": [],
   "environmentMetadata": {
    "base_environment": "",
    "environment_version": "2"
   },
   "inputWidgetPreferences": null,
   "language": "python",
   "notebookMetadata": {
    "pythonIndentUnit": 4
   },
   "notebookName": "03_inference",
   "widgets": {}
  },
  "language_info": {
   "name": "python"
  }
 },
 "nbformat": 4,
 "nbformat_minor": 0
}
