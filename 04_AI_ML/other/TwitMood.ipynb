{
 "cells": [
  {
   "cell_type": "code",
   "execution_count": 0,
   "metadata": {
    "application/vnd.databricks.v1+cell": {
     "cellMetadata": {
      "byteLimit": 2048000,
      "rowLimit": 10000
     },
     "inputWidgets": {},
     "nuid": "8a807c5d-e54b-4e92-a8f0-578cac6d48dc",
     "showTitle": false,
     "tableResultSettingsMap": {},
     "title": ""
    }
   },
   "outputs": [],
   "source": [
    "### Tweets Sentiment Analysis ###\n",
    "\n",
    "# Sample tweets\n",
    "tweets = [\n",
    "    (\"Just tried Databricks Free Edition — it's amazing!\",),\n",
    "    (\"Why is this taking so long to load?\",),\n",
    "    (\"I'm learning so much thanks to SleekData.\",),\n",
    "    (\"Ugh, my notebook crashed again. This is so frustrating.\",),\n",
    "    (\"Loving the new features in Databricks, great job!\",)\n",
    "]\n",
    "\n",
    "# Create DataFrame\n",
    "df = spark.createDataFrame(tweets, [\"tweet\"])\n",
    "\n",
    "# Register as SQL temp view\n",
    "df.createOrReplaceTempView(\"tweets\")\n",
    "\n",
    "# Use AI function to analyze sentiment\n",
    "result = spark.sql(\"\"\"\n",
    "SELECT \n",
    "  tweet,\n",
    "  ai_analyze_sentiment(tweet) AS sentiment\n",
    "FROM tweets\n",
    "\"\"\")\n",
    "\n",
    "# Display Results\n",
    "result.display()\n"
   ]
  }
 ],
 "metadata": {
  "application/vnd.databricks.v1+notebook": {
   "computePreferences": null,
   "dashboards": [],
   "environmentMetadata": {
    "base_environment": "",
    "environment_version": "2"
   },
   "inputWidgetPreferences": null,
   "language": "python",
   "notebookMetadata": {
    "pythonIndentUnit": 4
   },
   "notebookName": "TwitMood",
   "widgets": {}
  },
  "language_info": {
   "name": "python"
  }
 },
 "nbformat": 4,
 "nbformat_minor": 0
}
