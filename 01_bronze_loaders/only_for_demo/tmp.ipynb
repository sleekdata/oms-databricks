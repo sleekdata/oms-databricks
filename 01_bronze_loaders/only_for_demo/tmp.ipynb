{
 "cells": [
  {
   "cell_type": "code",
   "execution_count": 0,
   "metadata": {
    "application/vnd.databricks.v1+cell": {
     "cellMetadata": {
      "byteLimit": 2048000,
      "rowLimit": 10000
     },
     "inputWidgets": {},
     "nuid": "5b1bc60c-7291-4d21-bc89-111e1aff5ba2",
     "showTitle": false,
     "tableResultSettingsMap": {},
     "title": ""
    }
   },
   "outputs": [],
   "source": [
    "-- Create the databases inside the oms_analytics catalog if they don't exist\n",
    "CREATE DATABASE IF NOT EXISTS oms_analytics.bronze;\n",
    "CREATE DATABASE IF NOT EXISTS oms_analytics.silver;\n",
    "CREATE DATABASE IF NOT EXISTS oms_analytics.gold;\n"
   ]
  },
  {
   "cell_type": "code",
   "execution_count": 0,
   "metadata": {
    "application/vnd.databricks.v1+cell": {
     "cellMetadata": {
      "byteLimit": 2048000,
      "rowLimit": 10000
     },
     "inputWidgets": {},
     "nuid": "f78fc13d-ac8c-4a90-b36b-060379a07c8a",
     "showTitle": false,
     "tableResultSettingsMap": {},
     "title": ""
    }
   },
   "outputs": [],
   "source": [
    "%sql\n",
    "drop table oms_analytics.bronze.orders;"
   ]
  },
  {
   "cell_type": "code",
   "execution_count": 0,
   "metadata": {
    "application/vnd.databricks.v1+cell": {
     "cellMetadata": {
      "byteLimit": 2048000,
      "rowLimit": 10000
     },
     "inputWidgets": {},
     "nuid": "aaea5b3f-3cd0-490d-9a23-2e0f35e5908d",
     "showTitle": false,
     "tableResultSettingsMap": {},
     "title": ""
    }
   },
   "outputs": [],
   "source": [
    "%sql\n",
    "-- Create catalog and schema\n",
    "CREATE CATALOG IF NOT EXISTS oms_analytics;\n",
    "\n",
    "-- Create schema within the catalog\n",
    "CREATE SCHEMA IF NOT EXISTS oms_analytics.bronze;"
   ]
  },
  {
   "cell_type": "code",
   "execution_count": 0,
   "metadata": {
    "application/vnd.databricks.v1+cell": {
     "cellMetadata": {
      "byteLimit": 2048000,
      "rowLimit": 10000
     },
     "inputWidgets": {},
     "nuid": "dff33930-bea9-43f0-bdc6-0e0406be391b",
     "showTitle": false,
     "tableResultSettingsMap": {},
     "title": ""
    }
   },
   "outputs": [],
   "source": [
    "select * from oms_analytics.bronze.orders;"
   ]
  },
  {
   "cell_type": "code",
   "execution_count": 0,
   "metadata": {
    "application/vnd.databricks.v1+cell": {
     "cellMetadata": {
      "byteLimit": 2048000,
      "rowLimit": 10000
     },
     "inputWidgets": {},
     "nuid": "41720641-eb01-4a71-9081-2d803b427c59",
     "showTitle": false,
     "tableResultSettingsMap": {},
     "title": ""
    }
   },
   "outputs": [],
   "source": [
    "SELECT\n",
    "    path,\n",
    "    CAST(content AS STRING) AS content\n",
    "FROM oms_analytics.bronze.orders;"
   ]
  },
  {
   "cell_type": "code",
   "execution_count": 0,
   "metadata": {
    "application/vnd.databricks.v1+cell": {
     "cellMetadata": {},
     "inputWidgets": {},
     "nuid": "7b9f5ff2-42e3-4155-bff7-3fadb5b52a3e",
     "showTitle": false,
     "tableResultSettingsMap": {},
     "title": ""
    }
   },
   "outputs": [],
   "source": [
    "%sql\n",
    "CREATE TABLE IF NOT EXISTS oms_analytics.bronze.orders (\n",
    "    path STRING,\n",
    "    modificationTime TIMESTAMP,\n",
    "    length LONG,\n",
    "    content BINARY,\n",
    "    process_id STRING NOT NULL,\n",
    "    bronze_load_ts TIMESTAMP NOT NULL\n",
    ")\n",
    "USING DELTA;"
   ]
  },
  {
   "cell_type": "code",
   "execution_count": 0,
   "metadata": {
    "application/vnd.databricks.v1+cell": {
     "cellMetadata": {
      "byteLimit": 2048000,
      "rowLimit": 10000
     },
     "inputWidgets": {},
     "nuid": "a5991ba9-0713-41bc-a3ff-55184a1db6f9",
     "showTitle": false,
     "tableResultSettingsMap": {},
     "title": ""
    }
   },
   "outputs": [],
   "source": [
    "%python \n",
    "# Remove the checkpoint directory\n",
    "\n",
    "# Define the external location for Azure Data Lake Storage\n",
    "external_location_name = \"abfss://orders@omslanding.dfs.core.windows.net\"\n",
    "\n",
    "# Define the checkpoint location\n",
    "checkpoint_location = f\"{external_location_name}/checkpoints/bronze_loader/orders\"\n",
    "\n",
    "\n",
    "dbutils.fs.rm(checkpoint_location, recurse=True)"
   ]
  },
  {
   "cell_type": "code",
   "execution_count": 0,
   "metadata": {
    "application/vnd.databricks.v1+cell": {
     "cellMetadata": {
      "byteLimit": 2048000,
      "rowLimit": 10000
     },
     "inputWidgets": {},
     "nuid": "8e421189-c5eb-4c95-a87e-702b5f63cb5e",
     "showTitle": false,
     "tableResultSettingsMap": {},
     "title": ""
    }
   },
   "outputs": [],
   "source": [
    "%python\n",
    "df = spark.read.table(\"ext_postgres_db.oms_schema.customers\")\n",
    "display(df)"
   ]
  }
 ],
 "metadata": {
  "application/vnd.databricks.v1+notebook": {
   "computePreferences": null,
   "dashboards": [],
   "environmentMetadata": {
    "base_environment": "",
    "environment_version": "1"
   },
   "language": "sql",
   "notebookMetadata": {
    "pythonIndentUnit": 4
   },
   "notebookName": "tmp",
   "widgets": {}
  },
  "language_info": {
   "name": "sql"
  }
 },
 "nbformat": 4,
 "nbformat_minor": 0
}
